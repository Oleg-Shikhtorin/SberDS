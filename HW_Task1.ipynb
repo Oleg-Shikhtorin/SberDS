{
 "cells": [
  {
   "cell_type": "markdown",
   "metadata": {
    "id": "M6n_8Kgn9YIT"
   },
   "source": [
    "# Несколько заданий на пройденный материал"
   ]
  },
  {
   "cell_type": "markdown",
   "metadata": {
    "id": "TT2xjEgu9nCx"
   },
   "source": [
    "*Подсказка!* проверяйте ваше решение по тому, что уже есть в блоках вывода ячеек"
   ]
  },
  {
   "cell_type": "markdown",
   "metadata": {
    "id": "p8V0RKCF94h6"
   },
   "source": [
    "## Задача 1\n",
    "\n",
    "Создайте переменную a = 10, возвести значение в 3 степень и найти остаток от деления на 3."
   ]
  },
  {
   "cell_type": "code",
   "execution_count": 4,
   "metadata": {
    "colab": {
     "base_uri": "https://localhost:8080/",
     "height": 35
    },
    "executionInfo": {
     "elapsed": 580,
     "status": "ok",
     "timestamp": 1581117842779,
     "user": {
      "displayName": "Илья Витальевич Тихонов",
      "photoUrl": "",
      "userId": "10513119548773881016"
     },
     "user_tz": -180
    },
    "id": "_N-Bcj6D9300",
    "outputId": "af5151c0-2652-41a2-ab94-56246146b1fc"
   },
   "outputs": [
    {
     "name": "stdout",
     "output_type": "stream",
     "text": [
      "1\n"
     ]
    }
   ],
   "source": [
    "a = 10\n",
    "print((a ** 3) % 3)"
   ]
  },
  {
   "cell_type": "markdown",
   "metadata": {
    "id": "S2BzQt1E99Np"
   },
   "source": [
    "## Задача 2\n",
    "\n",
    "Найдите площадь круга с радиусом 1.23456.\n",
    "\n",
    "(Считаем π = 3.14)"
   ]
  },
  {
   "cell_type": "code",
   "execution_count": 5,
   "metadata": {
    "colab": {
     "base_uri": "https://localhost:8080/",
     "height": 35
    },
    "executionInfo": {
     "elapsed": 591,
     "status": "ok",
     "timestamp": 1581117861762,
     "user": {
      "displayName": "Илья Витальевич Тихонов",
      "photoUrl": "",
      "userId": "10513119548773881016"
     },
     "user_tz": -180
    },
    "id": "mkN8EOc098t9",
    "outputId": "287c4ff0-b8d7-4f38-9791-b7b8c3ec4b75"
   },
   "outputs": [
    {
     "data": {
      "text/plain": [
       "4.785794555904"
      ]
     },
     "execution_count": 5,
     "metadata": {},
     "output_type": "execute_result"
    }
   ],
   "source": [
    "pi= 3.14\n",
    "r = 1.23456\n",
    "s = pi * (r ** 2)\n",
    "s"
   ]
  },
  {
   "cell_type": "markdown",
   "metadata": {
    "id": "nP-f4Qd2-BTI"
   },
   "source": [
    "## Задача 3\n",
    "\n",
    "Найдите, истинно ли, что 2 в 10 степени больше 1000 при условии, что 4 в 7й степени меньше 8 в 5й.\n",
    "\n"
   ]
  },
  {
   "cell_type": "code",
   "execution_count": 7,
   "metadata": {
    "colab": {
     "base_uri": "https://localhost:8080/",
     "height": 35
    },
    "executionInfo": {
     "elapsed": 591,
     "status": "ok",
     "timestamp": 1581117881611,
     "user": {
      "displayName": "Илья Витальевич Тихонов",
      "photoUrl": "",
      "userId": "10513119548773881016"
     },
     "user_tz": -180
    },
    "id": "-reh5tB2-CPF",
    "outputId": "1778e92d-4a0b-4765-ac6f-ab6893dfbf2c"
   },
   "outputs": [
    {
     "name": "stdout",
     "output_type": "stream",
     "text": [
      "True\n"
     ]
    }
   ],
   "source": [
    "if 4 ** 7 < 8 ** 5:\n",
    "    print(2 ** 10 > 1000)"
   ]
  },
  {
   "cell_type": "markdown",
   "metadata": {
    "id": "XcaKAyzZ-MOL"
   },
   "source": [
    "## Задача 4\n",
    "\n",
    "Мы принимаем целое число на ввод с клавиатуры (код предоставлен), вывести \"цена выше рынка\", если число выше 1200, \"цена ниже рыночной\", если число меньше 800 и \"все ок\" в остальных случаях."
   ]
  },
  {
   "cell_type": "code",
   "execution_count": 9,
   "metadata": {
    "colab": {
     "base_uri": "https://localhost:8080/",
     "height": 52
    },
    "executionInfo": {
     "elapsed": 4058,
     "status": "ok",
     "timestamp": 1581117965485,
     "user": {
      "displayName": "Илья Витальевич Тихонов",
      "photoUrl": "",
      "userId": "10513119548773881016"
     },
     "user_tz": -180
    },
    "id": "3yLvK2JL-R1g",
    "outputId": "e7e02009-c04c-45f5-922b-9156130dad30"
   },
   "outputs": [
    {
     "name": "stdout",
     "output_type": "stream",
     "text": [
      "Введите цену товара: 1000\n",
      "все ок\n"
     ]
    }
   ],
   "source": [
    "price = int(input('Введите цену товара: '))\n",
    "if price > 1200:\n",
    "    print('цена выше рынка')\n",
    "elif price < 800:\n",
    "    print('цена ниже рыночной')\n",
    "else:\n",
    "    print('все ок')"
   ]
  },
  {
   "cell_type": "markdown",
   "metadata": {
    "id": "lV0tQp8J-bFI"
   },
   "source": [
    "## Задача 5\n",
    "\n",
    "Распечатайте с 4 по 8 символ фразы \"Привет мир!\" приведенные к верхнему регистру."
   ]
  },
  {
   "cell_type": "code",
   "execution_count": 15,
   "metadata": {
    "colab": {
     "base_uri": "https://localhost:8080/",
     "height": 35
    },
    "executionInfo": {
     "elapsed": 526,
     "status": "ok",
     "timestamp": 1581117989367,
     "user": {
      "displayName": "Илья Витальевич Тихонов",
      "photoUrl": "",
      "userId": "10513119548773881016"
     },
     "user_tz": -180
    },
    "id": "ECKlo9c2-cue",
    "outputId": "099a60e6-c9b8-46e9-bdd2-a000fd64e8f7"
   },
   "outputs": [
    {
     "data": {
      "text/plain": [
       "'ЕТ М'"
      ]
     },
     "execution_count": 15,
     "metadata": {},
     "output_type": "execute_result"
    }
   ],
   "source": [
    "phrase = 'Привет мир!'\n",
    "phrase.upper()[4:8]"
   ]
  },
  {
   "cell_type": "markdown",
   "metadata": {
    "id": "2jN3PzaZ-gx4"
   },
   "source": [
    "## Задача 6\n",
    "\n",
    "Создайте переменную, которая хранит описание этой задачи как строку, разделите слова по пробелам и приведите к нижнему регистру."
   ]
  },
  {
   "cell_type": "code",
   "execution_count": 16,
   "metadata": {
    "colab": {
     "base_uri": "https://localhost:8080/",
     "height": 329
    },
    "executionInfo": {
     "elapsed": 563,
     "status": "ok",
     "timestamp": 1581118010801,
     "user": {
      "displayName": "Илья Витальевич Тихонов",
      "photoUrl": "",
      "userId": "10513119548773881016"
     },
     "user_tz": -180
    },
    "id": "A-Ro4i8u-iHv",
    "outputId": "aa7b8330-28df-440d-f401-068f11c2f0a6"
   },
   "outputs": [
    {
     "data": {
      "text/plain": [
       "['создайте',\n",
       " 'переменную,',\n",
       " 'которая',\n",
       " 'хранит',\n",
       " 'описание',\n",
       " 'этой',\n",
       " 'задачи',\n",
       " 'как',\n",
       " 'строку,',\n",
       " 'разделите',\n",
       " 'слова',\n",
       " 'по',\n",
       " 'пробелам',\n",
       " 'и',\n",
       " 'приведите',\n",
       " 'к',\n",
       " 'нижнему',\n",
       " 'регистру.']"
      ]
     },
     "execution_count": 16,
     "metadata": {},
     "output_type": "execute_result"
    }
   ],
   "source": [
    "s = 'Создайте переменную, которая хранит описание этой задачи как строку, разделите слова по пробелам и приведите к нижнему регистру.'\n",
    "s.lower().split()"
   ]
  },
  {
   "cell_type": "markdown",
   "metadata": {
    "id": "nE4N_rxk-l-L"
   },
   "source": [
    "## Задание 7\n",
    "\n",
    "Напишите код, который проверяет, является ли переменная x строкой, и если да, то если в строке больше одного слова (слово--последовательность подряд идущих символов без пробелов), то выводит на экран количество слов в этой строке и сами слова в алфавитном порядке."
   ]
  },
  {
   "cell_type": "code",
   "execution_count": 33,
   "metadata": {
    "colab": {
     "base_uri": "https://localhost:8080/",
     "height": 87
    },
    "executionInfo": {
     "elapsed": 538,
     "status": "ok",
     "timestamp": 1581118041861,
     "user": {
      "displayName": "Илья Витальевич Тихонов",
      "photoUrl": "",
      "userId": "10513119548773881016"
     },
     "user_tz": -180
    },
    "id": "INh5TwAM9Xmf",
    "outputId": "31ba633f-f368-44ef-e80a-875e295dd876",
    "scrolled": true
   },
   "outputs": [
    {
     "name": "stdout",
     "output_type": "stream",
     "text": [
      "3\n",
      "hello\n",
      "world\n",
      "z\n"
     ]
    }
   ],
   "source": [
    "x = 'z hello world'\n",
    "if type(x) == str:\n",
    "    if len(x.split()) > 1:\n",
    "        print(len(x.split()))\n",
    "        for w in sorted(x.split()):\n",
    "            print(w)"
   ]
  },
  {
   "cell_type": "markdown",
   "metadata": {
    "id": "TR1Wvx_Z-tlI"
   },
   "source": [
    "## Задание 8\n",
    "\n",
    "Напишите код, который все элементы массива x с **нечетными** индексами переставит в обратном порядке.\n",
    "\n",
    "Т.е. если x = [0, 1, 2, 3, 4, 5, 6, 7, 8, 9], то код должен получать [0, 9, 2, 7, 4, 5, 6, 3, 8, 1]"
   ]
  },
  {
   "cell_type": "code",
   "execution_count": 51,
   "metadata": {
    "colab": {
     "base_uri": "https://localhost:8080/",
     "height": 35
    },
    "executionInfo": {
     "elapsed": 662,
     "status": "ok",
     "timestamp": 1581118062508,
     "user": {
      "displayName": "Илья Витальевич Тихонов",
      "photoUrl": "",
      "userId": "10513119548773881016"
     },
     "user_tz": -180
    },
    "id": "hh2ackf09QjM",
    "outputId": "6a2fe33c-e7ce-43a3-d728-c517f6abf477",
    "scrolled": true
   },
   "outputs": [
    {
     "data": {
      "text/plain": [
       "[0, 9, 2, 7, 4, 5, 6, 3, 8, 1]"
      ]
     },
     "execution_count": 51,
     "metadata": {},
     "output_type": "execute_result"
    }
   ],
   "source": [
    "x = [0, 1, 2, 3, 4, 5, 6, 7, 8, 9]\n",
    "res = []\n",
    "for i in range(len(x)):\n",
    "    if i % 2 == 0:\n",
    "        res.append(x[i])\n",
    "    else:\n",
    "        res.append(x[-i])\n",
    "res"
   ]
  },
  {
   "cell_type": "markdown",
   "metadata": {
    "id": "pdGccRcP-1CC"
   },
   "source": [
    "## Задание 9\n",
    "\n",
    "Напишите цикл, который выводит все числа от 0 до 500, делящиеся на 7, если в них есть цифра 8.\n",
    "\n",
    "*Подсказка*: переменную типа int можно привести к типу str:\n",
    "```\n",
    "x = 5\n",
    "y = str(x)\n",
    "```"
   ]
  },
  {
   "cell_type": "code",
   "execution_count": 54,
   "metadata": {},
   "outputs": [
    {
     "name": "stdout",
     "output_type": "stream",
     "text": [
      "28 84 98 168 182 189 238 280 287 308 378 385 448 483 "
     ]
    }
   ],
   "source": [
    "for i in range(500):\n",
    "    if i % 7 == 0:\n",
    "        if '8' in str(i):\n",
    "            print(i, end = ' ')"
   ]
  },
  {
   "cell_type": "markdown",
   "metadata": {
    "id": "VaeD81JuBfdE"
   },
   "source": [
    "# Доп задачи по пройденному материалу"
   ]
  },
  {
   "cell_type": "markdown",
   "metadata": {
    "id": "TVh-gw54BqEm"
   },
   "source": [
    "## Задание 10\n",
    "\n",
    "1. Создайте список `a`, состоящий из каких-то элементов.\n",
    "2. Создайте список `b` такого же размера, как `a`, состоящий из каких-то элементов.\n",
    "3. Выведите **нумерованный список пар** из элементов списков `a` и `b`."
   ]
  },
  {
   "cell_type": "code",
   "execution_count": 91,
   "metadata": {
    "colab": {
     "base_uri": "https://localhost:8080/",
     "height": 52
    },
    "executionInfo": {
     "elapsed": 1074,
     "status": "ok",
     "timestamp": 1581118842533,
     "user": {
      "displayName": "Илья Витальевич Тихонов",
      "photoUrl": "",
      "userId": "10513119548773881016"
     },
     "user_tz": -180
    },
    "id": "WkDpiGDsBcus",
    "outputId": "88ef9397-65ff-4ddf-acd0-5d6c40a2eba1"
   },
   "outputs": [
    {
     "data": {
      "text/plain": [
       "[(0, ('11', 'x')), (1, ('22', 'y')), (2, ('33', 'z'))]"
      ]
     },
     "execution_count": 91,
     "metadata": {},
     "output_type": "execute_result"
    }
   ],
   "source": [
    "# Ваш код здесь\n",
    "# варианты решения ниже\n",
    "a = ['11', '22', '33']\n",
    "b = ['x', 'y', 'z']\n",
    "res = [(i, j) for i, j in enumerate(list(zip(a, b)))]\n",
    "res"
   ]
  },
  {
   "cell_type": "markdown",
   "metadata": {
    "id": "51DfEzj3B1gV"
   },
   "source": [
    "## Задание 11\n",
    "\n",
    "Дан массив строк mas. Одной строкой создайте словарь, в котором по ключу строки будет записана пара (кортеж длины 2) (индекс строки в массиве mas, длина строки)"
   ]
  },
  {
   "cell_type": "code",
   "execution_count": 125,
   "metadata": {
    "colab": {
     "base_uri": "https://localhost:8080/",
     "height": 35
    },
    "executionInfo": {
     "elapsed": 1058,
     "status": "ok",
     "timestamp": 1581118886766,
     "user": {
      "displayName": "Илья Витальевич Тихонов",
      "photoUrl": "",
      "userId": "10513119548773881016"
     },
     "user_tz": -180
    },
    "id": "azytv3ENBuH5",
    "outputId": "e0967bea-95a8-4841-bc62-5ef5c6e02163",
    "scrolled": true
   },
   "outputs": [
    {
     "data": {
      "text/plain": [
       "{'abc': (0, 3), 'hello': (1, 5)}"
      ]
     },
     "execution_count": 125,
     "metadata": {},
     "output_type": "execute_result"
    }
   ],
   "source": [
    "mas = ['abc', 'hello']\n",
    "{string: pair for string, pair in list(zip([i for i in mas], zip([mas.index(i) for i in mas], [len(i) for i in mas])))}"
   ]
  },
  {
   "cell_type": "markdown",
   "metadata": {
    "id": "NNgNKKtUB-7d"
   },
   "source": [
    "## Задание 12\n",
    "\n",
    "Релизовать функцию, которая возвращает сумму всех позиционных и именованных аргументов."
   ]
  },
  {
   "cell_type": "code",
   "execution_count": 141,
   "metadata": {
    "colab": {
     "base_uri": "https://localhost:8080/",
     "height": 35
    },
    "executionInfo": {
     "elapsed": 1120,
     "status": "ok",
     "timestamp": 1581118941856,
     "user": {
      "displayName": "Илья Витальевич Тихонов",
      "photoUrl": "",
      "userId": "10513119548773881016"
     },
     "user_tz": -180
    },
    "id": "8MrgHc1eB47J",
    "outputId": "19b7e7ff-5c8a-42a3-d752-5b8bc55f6d95"
   },
   "outputs": [
    {
     "name": "stdout",
     "output_type": "stream",
     "text": [
      "15\n"
     ]
    }
   ],
   "source": [
    "s = 0\n",
    "def func(*args, **kwargs):\n",
    "    s = 0\n",
    "    for i in args:\n",
    "        s += i\n",
    "    for j in kwargs.values():\n",
    "        s += j\n",
    "    return s\n",
    "print(func(1, 2, 3, a=4, b=5))"
   ]
  },
  {
   "cell_type": "markdown",
   "metadata": {
    "id": "l-3fE5H-CIqe"
   },
   "source": [
    "## Задание 13\n",
    "\n",
    "Реализовать функцию, которая сохраняет в 2 глобальные переменные:\n",
    "* сумму всех позиционных аргументов - релизовать через  lambda;\n",
    "* название всех именованных аргументов в виде списка."
   ]
  },
  {
   "cell_type": "code",
   "execution_count": 227,
   "metadata": {
    "colab": {
     "base_uri": "https://localhost:8080/",
     "height": 35
    },
    "executionInfo": {
     "elapsed": 587,
     "status": "ok",
     "timestamp": 1581118975054,
     "user": {
      "displayName": "Илья Витальевич Тихонов",
      "photoUrl": "",
      "userId": "10513119548773881016"
     },
     "user_tz": -180
    },
    "id": "Nhp1NLZJCGXI",
    "outputId": "bff2a684-f2b8-4d61-c406-3ef7ac7394a3"
   },
   "outputs": [
    {
     "name": "stdout",
     "output_type": "stream",
     "text": [
      "Cумма 6, названия ['a', 'b']\n"
     ]
    }
   ],
   "source": [
    "summ = 0\n",
    "names = []\n",
    "summ = 0\n",
    "names = []\n",
    "def another_func(*args, **kwargs):\n",
    "    global summ\n",
    "    global names\n",
    "    summ = (lambda *args: sum(args))(*args)\n",
    "    names = list(kwargs.keys())\n",
    "another_func(1, 2, 3, a=4, b=5)\n",
    "\n",
    "print(f'Cумма {summ}, названия {names}')"
   ]
  },
  {
   "cell_type": "markdown",
   "metadata": {
    "id": "HPbaEwHLCTLI"
   },
   "source": [
    "## Задание 14\n",
    "\n",
    "Реализовать класс с 2 функциями:\n",
    "\n",
    "*   Первая функция копирует функционал задачи №13, но сохраняет переменные в области видимости класса;\n",
    "*   Вторая функция отображает на экран сумму и названия именованных аргументов.\n",
    "\n"
   ]
  },
  {
   "cell_type": "code",
   "execution_count": null,
   "metadata": {
    "colab": {
     "base_uri": "https://localhost:8080/",
     "height": 35
    },
    "executionInfo": {
     "elapsed": 637,
     "status": "ok",
     "timestamp": 1581119013533,
     "user": {
      "displayName": "Илья Витальевич Тихонов",
      "photoUrl": "",
      "userId": "10513119548773881016"
     },
     "user_tz": -180
    },
    "id": "FvqwsvY4COmH",
    "outputId": "dc41071b-7b87-4faf-9259-ef382de33d34"
   },
   "outputs": [
    {
     "name": "stdout",
     "output_type": "stream",
     "text": [
      "Cумма 6, названия ['a', 'b']\n"
     ]
    }
   ],
   "source": [
    "\n",
    "class_obj = Solution()\n",
    "class_obj.another_func(1, 2, 3, a=4, b=5)\n",
    "class_obj.print_args_kwargs()"
   ]
  },
  {
   "cell_type": "code",
   "execution_count": 238,
   "metadata": {},
   "outputs": [
    {
     "ename": "AttributeError",
     "evalue": "'Solution' object has no attribute 'another_func'",
     "output_type": "error",
     "traceback": [
      "\u001b[1;31m---------------------------------------------------------------------------\u001b[0m",
      "\u001b[1;31mAttributeError\u001b[0m                            Traceback (most recent call last)",
      "\u001b[1;32m<ipython-input-238-dcbaf0af8430>\u001b[0m in \u001b[0;36m<module>\u001b[1;34m\u001b[0m\n\u001b[0;32m     10\u001b[0m         \u001b[1;32mreturn\u001b[0m \u001b[1;33m(\u001b[0m\u001b[1;32mlambda\u001b[0m \u001b[1;33m*\u001b[0m\u001b[0margs\u001b[0m\u001b[1;33m:\u001b[0m \u001b[0msum\u001b[0m\u001b[1;33m(\u001b[0m\u001b[0margs\u001b[0m\u001b[1;33m)\u001b[0m\u001b[1;33m)\u001b[0m\u001b[1;33m(\u001b[0m\u001b[1;33m*\u001b[0m\u001b[0margs\u001b[0m\u001b[1;33m)\u001b[0m\u001b[1;33m\u001b[0m\u001b[1;33m\u001b[0m\u001b[0m\n\u001b[0;32m     11\u001b[0m \u001b[0mclass_obj\u001b[0m \u001b[1;33m=\u001b[0m \u001b[0mSolution\u001b[0m\u001b[1;33m(\u001b[0m\u001b[1;33m)\u001b[0m\u001b[1;33m\u001b[0m\u001b[1;33m\u001b[0m\u001b[0m\n\u001b[1;32m---> 12\u001b[1;33m \u001b[0mclass_obj\u001b[0m\u001b[1;33m.\u001b[0m\u001b[0manother_func\u001b[0m\u001b[1;33m(\u001b[0m\u001b[1;36m1\u001b[0m\u001b[1;33m,\u001b[0m \u001b[1;36m2\u001b[0m\u001b[1;33m,\u001b[0m \u001b[1;36m3\u001b[0m\u001b[1;33m,\u001b[0m \u001b[0ma\u001b[0m\u001b[1;33m=\u001b[0m\u001b[1;36m4\u001b[0m\u001b[1;33m,\u001b[0m \u001b[0mb\u001b[0m\u001b[1;33m=\u001b[0m\u001b[1;36m5\u001b[0m\u001b[1;33m)\u001b[0m\u001b[1;33m\u001b[0m\u001b[1;33m\u001b[0m\u001b[0m\n\u001b[0m\u001b[0;32m     13\u001b[0m \u001b[0mclass_obj\u001b[0m\u001b[1;33m.\u001b[0m\u001b[0mprint_args_kwargs\u001b[0m\u001b[1;33m(\u001b[0m\u001b[1;33m)\u001b[0m\u001b[1;33m\u001b[0m\u001b[1;33m\u001b[0m\u001b[0m\n",
      "\u001b[1;31mAttributeError\u001b[0m: 'Solution' object has no attribute 'another_func'"
     ]
    }
   ],
   "source": [
    "class Solution():\n",
    "    def __init__(self):\n",
    "#        self.args = args\n",
    "#        self.kwargs = kwargs\n",
    "        def another_func(*args, **kwargs):\n",
    "                self.args = args\n",
    "                self.kwargs = kwargs\n",
    "    def print_args_kwargs(self):\n",
    "        return list(kwargs.keys())\n",
    "        return (lambda *args: sum(args))(*args)\n",
    "class_obj = Solution()\n",
    "class_obj.another_func(1, 2, 3, a=4, b=5)\n",
    "class_obj.print_args_kwargs()"
   ]
  },
  {
   "cell_type": "markdown",
   "metadata": {
    "id": "nKPXK6feQjU7"
   },
   "source": [
    "# tixons.work@gmail.com"
   ]
  },
  {
   "cell_type": "code",
   "execution_count": null,
   "metadata": {
    "id": "Ko3Ao9a1Qldu"
   },
   "outputs": [],
   "source": []
  }
 ],
 "metadata": {
  "colab": {
   "collapsed_sections": [],
   "name": "Занятие 1, Повторение python.ipynb",
   "provenance": [],
   "toc_visible": true
  },
  "kernelspec": {
   "display_name": "Python 3",
   "language": "python",
   "name": "python3"
  },
  "language_info": {
   "codemirror_mode": {
    "name": "ipython",
    "version": 3
   },
   "file_extension": ".py",
   "mimetype": "text/x-python",
   "name": "python",
   "nbconvert_exporter": "python",
   "pygments_lexer": "ipython3",
   "version": "3.8.5"
  }
 },
 "nbformat": 4,
 "nbformat_minor": 1
}
