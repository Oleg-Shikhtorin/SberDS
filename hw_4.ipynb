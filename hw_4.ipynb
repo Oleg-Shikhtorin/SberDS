{
 "cells": [
  {
   "cell_type": "code",
   "execution_count": 1,
   "metadata": {
    "id": "bzEXbxmA9_wX"
   },
   "outputs": [],
   "source": [
    "import numpy as np\n",
    "import pandas as pd\n",
    "import matplotlib.pyplot as plt\n",
    "from scipy.stats import norm\n",
    "import seaborn as sns\n",
    "import scipy.stats\n",
    "import scipy as sp"
   ]
  },
  {
   "cell_type": "markdown",
   "metadata": {
    "id": "Xx_OFyJOx8iK"
   },
   "source": [
    "# Задача №1 (3б)\n",
    "\n",
    "Пусткай у вас имеется датасет с описанием людей и меткой ' <=50K', которая показывает, получает ли человек (в США) более или менее 50к$ в год. Используя теорему Байеса покажите, что с ростом образования вероятность получать >50k в год растет.\n",
    "\n",
    "Код загрузки данных и результирующая таблица предоставлены.\n",
    "\n",
    "[Подсказка, теорема Байеса говорит нам, что\n",
    "\n",
    "$$P( > или < 50k|класс-образования) = \\frac{P(класс-образования | > или < 50k) * P(> или < 50k)}{P(наблюдать-этот-класс-образования)}$$\n",
    "\n",
    "\n",
    "Для лаконичной агрегации данных в pandas встроена функция [group by](https://realpython.com/pandas-groupby/)\n",
    "]"
   ]
  },
  {
   "cell_type": "code",
   "execution_count": 102,
   "metadata": {
    "id": "vkOIZxA-xsug"
   },
   "outputs": [],
   "source": [
    "df_temp = pd.read_csv('https://archive.ics.uci.edu/ml/machine-learning-databases/adult/adult.data')\n",
    "df_temp.rename(columns = {' Bachelors':'Bachelors', ' <=50K':'<=50K'}, inplace = True)"
   ]
  },
  {
   "cell_type": "code",
   "execution_count": 76,
   "metadata": {
    "colab": {
     "base_uri": "https://localhost:8080/",
     "height": 203
    },
    "id": "mxTpmI2t9-YY",
    "outputId": "deba9ac6-2380-41f9-c6fe-1788143f925c"
   },
   "outputs": [
    {
     "data": {
      "text/html": [
       "<div>\n",
       "<style scoped>\n",
       "    .dataframe tbody tr th:only-of-type {\n",
       "        vertical-align: middle;\n",
       "    }\n",
       "\n",
       "    .dataframe tbody tr th {\n",
       "        vertical-align: top;\n",
       "    }\n",
       "\n",
       "    .dataframe thead th {\n",
       "        text-align: right;\n",
       "    }\n",
       "</style>\n",
       "<table border=\"1\" class=\"dataframe\">\n",
       "  <thead>\n",
       "    <tr style=\"text-align: right;\">\n",
       "      <th></th>\n",
       "      <th>39</th>\n",
       "      <th>State-gov</th>\n",
       "      <th>77516</th>\n",
       "      <th>Bachelors</th>\n",
       "      <th>13</th>\n",
       "      <th>Never-married</th>\n",
       "      <th>Adm-clerical</th>\n",
       "      <th>Not-in-family</th>\n",
       "      <th>White</th>\n",
       "      <th>Male</th>\n",
       "      <th>2174</th>\n",
       "      <th>0</th>\n",
       "      <th>40</th>\n",
       "      <th>United-States</th>\n",
       "      <th>&lt;=50K</th>\n",
       "    </tr>\n",
       "  </thead>\n",
       "  <tbody>\n",
       "    <tr>\n",
       "      <th>0</th>\n",
       "      <td>50</td>\n",
       "      <td>Self-emp-not-inc</td>\n",
       "      <td>83311</td>\n",
       "      <td>Bachelors</td>\n",
       "      <td>13</td>\n",
       "      <td>Married-civ-spouse</td>\n",
       "      <td>Exec-managerial</td>\n",
       "      <td>Husband</td>\n",
       "      <td>White</td>\n",
       "      <td>Male</td>\n",
       "      <td>0</td>\n",
       "      <td>0</td>\n",
       "      <td>13</td>\n",
       "      <td>United-States</td>\n",
       "      <td>&lt;=50K</td>\n",
       "    </tr>\n",
       "    <tr>\n",
       "      <th>1</th>\n",
       "      <td>38</td>\n",
       "      <td>Private</td>\n",
       "      <td>215646</td>\n",
       "      <td>HS-grad</td>\n",
       "      <td>9</td>\n",
       "      <td>Divorced</td>\n",
       "      <td>Handlers-cleaners</td>\n",
       "      <td>Not-in-family</td>\n",
       "      <td>White</td>\n",
       "      <td>Male</td>\n",
       "      <td>0</td>\n",
       "      <td>0</td>\n",
       "      <td>40</td>\n",
       "      <td>United-States</td>\n",
       "      <td>&lt;=50K</td>\n",
       "    </tr>\n",
       "    <tr>\n",
       "      <th>2</th>\n",
       "      <td>53</td>\n",
       "      <td>Private</td>\n",
       "      <td>234721</td>\n",
       "      <td>11th</td>\n",
       "      <td>7</td>\n",
       "      <td>Married-civ-spouse</td>\n",
       "      <td>Handlers-cleaners</td>\n",
       "      <td>Husband</td>\n",
       "      <td>Black</td>\n",
       "      <td>Male</td>\n",
       "      <td>0</td>\n",
       "      <td>0</td>\n",
       "      <td>40</td>\n",
       "      <td>United-States</td>\n",
       "      <td>&lt;=50K</td>\n",
       "    </tr>\n",
       "    <tr>\n",
       "      <th>3</th>\n",
       "      <td>28</td>\n",
       "      <td>Private</td>\n",
       "      <td>338409</td>\n",
       "      <td>Bachelors</td>\n",
       "      <td>13</td>\n",
       "      <td>Married-civ-spouse</td>\n",
       "      <td>Prof-specialty</td>\n",
       "      <td>Wife</td>\n",
       "      <td>Black</td>\n",
       "      <td>Female</td>\n",
       "      <td>0</td>\n",
       "      <td>0</td>\n",
       "      <td>40</td>\n",
       "      <td>Cuba</td>\n",
       "      <td>&lt;=50K</td>\n",
       "    </tr>\n",
       "    <tr>\n",
       "      <th>4</th>\n",
       "      <td>37</td>\n",
       "      <td>Private</td>\n",
       "      <td>284582</td>\n",
       "      <td>Masters</td>\n",
       "      <td>14</td>\n",
       "      <td>Married-civ-spouse</td>\n",
       "      <td>Exec-managerial</td>\n",
       "      <td>Wife</td>\n",
       "      <td>White</td>\n",
       "      <td>Female</td>\n",
       "      <td>0</td>\n",
       "      <td>0</td>\n",
       "      <td>40</td>\n",
       "      <td>United-States</td>\n",
       "      <td>&lt;=50K</td>\n",
       "    </tr>\n",
       "  </tbody>\n",
       "</table>\n",
       "</div>"
      ],
      "text/plain": [
       "   39          State-gov   77516   Bachelors   13        Never-married  \\\n",
       "0  50   Self-emp-not-inc   83311   Bachelors   13   Married-civ-spouse   \n",
       "1  38            Private  215646     HS-grad    9             Divorced   \n",
       "2  53            Private  234721        11th    7   Married-civ-spouse   \n",
       "3  28            Private  338409   Bachelors   13   Married-civ-spouse   \n",
       "4  37            Private  284582     Masters   14   Married-civ-spouse   \n",
       "\n",
       "         Adm-clerical   Not-in-family   White     Male   2174   0   40  \\\n",
       "0     Exec-managerial         Husband   White     Male      0   0   13   \n",
       "1   Handlers-cleaners   Not-in-family   White     Male      0   0   40   \n",
       "2   Handlers-cleaners         Husband   Black     Male      0   0   40   \n",
       "3      Prof-specialty            Wife   Black   Female      0   0   40   \n",
       "4     Exec-managerial            Wife   White   Female      0   0   40   \n",
       "\n",
       "    United-States   <=50K  \n",
       "0   United-States   <=50K  \n",
       "1   United-States   <=50K  \n",
       "2   United-States   <=50K  \n",
       "3            Cuba   <=50K  \n",
       "4   United-States   <=50K  "
      ]
     },
     "execution_count": 76,
     "metadata": {},
     "output_type": "execute_result"
    }
   ],
   "source": [
    "df_temp.head()"
   ]
  },
  {
   "cell_type": "code",
   "execution_count": 78,
   "metadata": {
    "colab": {
     "base_uri": "https://localhost:8080/",
     "height": 203
    },
    "id": "r_-ugOFL-AaK",
    "outputId": "be2bcb53-62d3-4f65-aed8-6d93d871775d",
    "scrolled": true
   },
   "outputs": [
    {
     "data": {
      "text/html": [
       "<div>\n",
       "<style scoped>\n",
       "    .dataframe tbody tr th:only-of-type {\n",
       "        vertical-align: middle;\n",
       "    }\n",
       "\n",
       "    .dataframe tbody tr th {\n",
       "        vertical-align: top;\n",
       "    }\n",
       "\n",
       "    .dataframe thead th {\n",
       "        text-align: right;\n",
       "    }\n",
       "</style>\n",
       "<table border=\"1\" class=\"dataframe\">\n",
       "  <thead>\n",
       "    <tr style=\"text-align: right;\">\n",
       "      <th></th>\n",
       "      <th>Bachelors</th>\n",
       "      <th>&lt;=50K</th>\n",
       "    </tr>\n",
       "  </thead>\n",
       "  <tbody>\n",
       "    <tr>\n",
       "      <th>0</th>\n",
       "      <td>Bachelors</td>\n",
       "      <td>&lt;=50K</td>\n",
       "    </tr>\n",
       "    <tr>\n",
       "      <th>1</th>\n",
       "      <td>HS-grad</td>\n",
       "      <td>&lt;=50K</td>\n",
       "    </tr>\n",
       "    <tr>\n",
       "      <th>2</th>\n",
       "      <td>11th</td>\n",
       "      <td>&lt;=50K</td>\n",
       "    </tr>\n",
       "    <tr>\n",
       "      <th>3</th>\n",
       "      <td>Bachelors</td>\n",
       "      <td>&lt;=50K</td>\n",
       "    </tr>\n",
       "    <tr>\n",
       "      <th>4</th>\n",
       "      <td>Masters</td>\n",
       "      <td>&lt;=50K</td>\n",
       "    </tr>\n",
       "  </tbody>\n",
       "</table>\n",
       "</div>"
      ],
      "text/plain": [
       "    Bachelors   <=50K\n",
       "0   Bachelors   <=50K\n",
       "1     HS-grad   <=50K\n",
       "2        11th   <=50K\n",
       "3   Bachelors   <=50K\n",
       "4     Masters   <=50K"
      ]
     },
     "execution_count": 78,
     "metadata": {},
     "output_type": "execute_result"
    }
   ],
   "source": [
    "df_temp[['Bachelors', '<=50K']].head()"
   ]
  },
  {
   "cell_type": "code",
   "execution_count": 79,
   "metadata": {},
   "outputs": [
    {
     "data": {
      "text/plain": [
       " HS-grad         10501\n",
       " Some-college     7291\n",
       " Bachelors        5354\n",
       " Masters          1723\n",
       " Assoc-voc        1382\n",
       " 11th             1175\n",
       " Assoc-acdm       1067\n",
       " 10th              933\n",
       " 7th-8th           646\n",
       " Prof-school       576\n",
       " 9th               514\n",
       " 12th              433\n",
       " Doctorate         413\n",
       " 5th-6th           333\n",
       " 1st-4th           168\n",
       " Preschool          51\n",
       "Name: Bachelors, dtype: int64"
      ]
     },
     "execution_count": 79,
     "metadata": {},
     "output_type": "execute_result"
    }
   ],
   "source": [
    "df_temp['Bachelors'].value_counts()"
   ]
  },
  {
   "cell_type": "code",
   "execution_count": 80,
   "metadata": {},
   "outputs": [
    {
     "data": {
      "text/plain": [
       " <=50K    24719\n",
       " >50K      7841\n",
       "Name: <=50K, dtype: int64"
      ]
     },
     "execution_count": 80,
     "metadata": {},
     "output_type": "execute_result"
    }
   ],
   "source": [
    "df_temp['<=50K'].value_counts()"
   ]
  },
  {
   "cell_type": "code",
   "execution_count": 175,
   "metadata": {
    "colab": {
     "base_uri": "https://localhost:8080/"
    },
    "id": "i9ilrPY7-DWy",
    "outputId": "29bed641-ffa9-419d-afd7-082036107142"
   },
   "outputs": [
    {
     "name": "stdout",
     "output_type": "stream",
     "text": [
      "0.24081695331695332\n",
      "0.7591830466830467\n"
     ]
    }
   ],
   "source": [
    "probability_less = df_temp['<=50K'].value_counts().loc[' <=50K'] / len(df_temp)\n",
    "probability_more = df_temp['<=50K'].value_counts().loc[' >50K'] / len(df_temp)\n",
    "print(probability_more, '\\n', probability_less, sep = '')"
   ]
  },
  {
   "cell_type": "markdown",
   "metadata": {
    "id": "jPJvUjC7-LBB"
   },
   "source": [
    "Подсказка: см. мультииндекс и groupby\n",
    "\n",
    "Да, код не иметь \"красивое\" решение"
   ]
  },
  {
   "cell_type": "code",
   "execution_count": 228,
   "metadata": {
    "colab": {
     "base_uri": "https://localhost:8080/",
     "height": 1000
    },
    "id": "ObDr4l1k-F7S",
    "outputId": "6e8bd8ed-7af1-47f6-8f5e-84ac6496d1bf"
   },
   "outputs": [
    {
     "data": {
      "text/html": [
       "<div>\n",
       "<style scoped>\n",
       "    .dataframe tbody tr th:only-of-type {\n",
       "        vertical-align: middle;\n",
       "    }\n",
       "\n",
       "    .dataframe tbody tr th {\n",
       "        vertical-align: top;\n",
       "    }\n",
       "\n",
       "    .dataframe thead th {\n",
       "        text-align: right;\n",
       "    }\n",
       "</style>\n",
       "<table border=\"1\" class=\"dataframe\">\n",
       "  <thead>\n",
       "    <tr style=\"text-align: right;\">\n",
       "      <th></th>\n",
       "      <th></th>\n",
       "      <th>&lt;=50K</th>\n",
       "      <th>Всего людей по классу образования</th>\n",
       "      <th>P(наблюдать этот класс образования)</th>\n",
       "      <th>P(&gt; или &lt; 50k)</th>\n",
       "      <th>P(класс образования | &gt; или &lt; 50k)</th>\n",
       "      <th>P( &gt; или &lt; 50k | класс образования)</th>\n",
       "    </tr>\n",
       "    <tr>\n",
       "      <th>Bachelors</th>\n",
       "      <th>&lt;=50K</th>\n",
       "      <th></th>\n",
       "      <th></th>\n",
       "      <th></th>\n",
       "      <th></th>\n",
       "      <th></th>\n",
       "      <th></th>\n",
       "    </tr>\n",
       "  </thead>\n",
       "  <tbody>\n",
       "    <tr>\n",
       "      <th rowspan=\"2\" valign=\"top\">10th</th>\n",
       "      <th>&lt;=50K</th>\n",
       "      <td>871</td>\n",
       "      <td>933</td>\n",
       "      <td>0.028655</td>\n",
       "      <td>0.759183</td>\n",
       "      <td>0.035236</td>\n",
       "      <td>0.933548</td>\n",
       "    </tr>\n",
       "    <tr>\n",
       "      <th>&gt;50K</th>\n",
       "      <td>62</td>\n",
       "      <td>933</td>\n",
       "      <td>0.028655</td>\n",
       "      <td>0.240817</td>\n",
       "      <td>0.007907</td>\n",
       "      <td>0.066452</td>\n",
       "    </tr>\n",
       "    <tr>\n",
       "      <th rowspan=\"2\" valign=\"top\">11th</th>\n",
       "      <th>&lt;=50K</th>\n",
       "      <td>1115</td>\n",
       "      <td>1175</td>\n",
       "      <td>0.036087</td>\n",
       "      <td>0.759183</td>\n",
       "      <td>0.045107</td>\n",
       "      <td>0.948936</td>\n",
       "    </tr>\n",
       "    <tr>\n",
       "      <th>&gt;50K</th>\n",
       "      <td>60</td>\n",
       "      <td>1175</td>\n",
       "      <td>0.036087</td>\n",
       "      <td>0.240817</td>\n",
       "      <td>0.007652</td>\n",
       "      <td>0.051064</td>\n",
       "    </tr>\n",
       "    <tr>\n",
       "      <th rowspan=\"2\" valign=\"top\">12th</th>\n",
       "      <th>&lt;=50K</th>\n",
       "      <td>400</td>\n",
       "      <td>433</td>\n",
       "      <td>0.013299</td>\n",
       "      <td>0.759183</td>\n",
       "      <td>0.016182</td>\n",
       "      <td>0.923788</td>\n",
       "    </tr>\n",
       "    <tr>\n",
       "      <th>&gt;50K</th>\n",
       "      <td>33</td>\n",
       "      <td>433</td>\n",
       "      <td>0.013299</td>\n",
       "      <td>0.240817</td>\n",
       "      <td>0.004209</td>\n",
       "      <td>0.076212</td>\n",
       "    </tr>\n",
       "    <tr>\n",
       "      <th rowspan=\"2\" valign=\"top\">1st-4th</th>\n",
       "      <th>&lt;=50K</th>\n",
       "      <td>162</td>\n",
       "      <td>168</td>\n",
       "      <td>0.005160</td>\n",
       "      <td>0.759183</td>\n",
       "      <td>0.006554</td>\n",
       "      <td>0.964286</td>\n",
       "    </tr>\n",
       "    <tr>\n",
       "      <th>&gt;50K</th>\n",
       "      <td>6</td>\n",
       "      <td>168</td>\n",
       "      <td>0.005160</td>\n",
       "      <td>0.240817</td>\n",
       "      <td>0.000765</td>\n",
       "      <td>0.035714</td>\n",
       "    </tr>\n",
       "    <tr>\n",
       "      <th rowspan=\"2\" valign=\"top\">5th-6th</th>\n",
       "      <th>&lt;=50K</th>\n",
       "      <td>317</td>\n",
       "      <td>333</td>\n",
       "      <td>0.010227</td>\n",
       "      <td>0.759183</td>\n",
       "      <td>0.012824</td>\n",
       "      <td>0.951952</td>\n",
       "    </tr>\n",
       "    <tr>\n",
       "      <th>&gt;50K</th>\n",
       "      <td>16</td>\n",
       "      <td>333</td>\n",
       "      <td>0.010227</td>\n",
       "      <td>0.240817</td>\n",
       "      <td>0.002041</td>\n",
       "      <td>0.048048</td>\n",
       "    </tr>\n",
       "    <tr>\n",
       "      <th rowspan=\"2\" valign=\"top\">7th-8th</th>\n",
       "      <th>&lt;=50K</th>\n",
       "      <td>606</td>\n",
       "      <td>646</td>\n",
       "      <td>0.019840</td>\n",
       "      <td>0.759183</td>\n",
       "      <td>0.024516</td>\n",
       "      <td>0.938080</td>\n",
       "    </tr>\n",
       "    <tr>\n",
       "      <th>&gt;50K</th>\n",
       "      <td>40</td>\n",
       "      <td>646</td>\n",
       "      <td>0.019840</td>\n",
       "      <td>0.240817</td>\n",
       "      <td>0.005101</td>\n",
       "      <td>0.061920</td>\n",
       "    </tr>\n",
       "    <tr>\n",
       "      <th rowspan=\"2\" valign=\"top\">9th</th>\n",
       "      <th>&lt;=50K</th>\n",
       "      <td>487</td>\n",
       "      <td>514</td>\n",
       "      <td>0.015786</td>\n",
       "      <td>0.759183</td>\n",
       "      <td>0.019701</td>\n",
       "      <td>0.947471</td>\n",
       "    </tr>\n",
       "    <tr>\n",
       "      <th>&gt;50K</th>\n",
       "      <td>27</td>\n",
       "      <td>514</td>\n",
       "      <td>0.015786</td>\n",
       "      <td>0.240817</td>\n",
       "      <td>0.003443</td>\n",
       "      <td>0.052529</td>\n",
       "    </tr>\n",
       "    <tr>\n",
       "      <th rowspan=\"2\" valign=\"top\">Assoc-acdm</th>\n",
       "      <th>&lt;=50K</th>\n",
       "      <td>802</td>\n",
       "      <td>1067</td>\n",
       "      <td>0.032770</td>\n",
       "      <td>0.759183</td>\n",
       "      <td>0.032445</td>\n",
       "      <td>0.751640</td>\n",
       "    </tr>\n",
       "    <tr>\n",
       "      <th>&gt;50K</th>\n",
       "      <td>265</td>\n",
       "      <td>1067</td>\n",
       "      <td>0.032770</td>\n",
       "      <td>0.240817</td>\n",
       "      <td>0.033797</td>\n",
       "      <td>0.248360</td>\n",
       "    </tr>\n",
       "    <tr>\n",
       "      <th rowspan=\"2\" valign=\"top\">Assoc-voc</th>\n",
       "      <th>&lt;=50K</th>\n",
       "      <td>1021</td>\n",
       "      <td>1382</td>\n",
       "      <td>0.042445</td>\n",
       "      <td>0.759183</td>\n",
       "      <td>0.041304</td>\n",
       "      <td>0.738784</td>\n",
       "    </tr>\n",
       "    <tr>\n",
       "      <th>&gt;50K</th>\n",
       "      <td>361</td>\n",
       "      <td>1382</td>\n",
       "      <td>0.042445</td>\n",
       "      <td>0.240817</td>\n",
       "      <td>0.046040</td>\n",
       "      <td>0.261216</td>\n",
       "    </tr>\n",
       "    <tr>\n",
       "      <th rowspan=\"2\" valign=\"top\">Bachelors</th>\n",
       "      <th>&lt;=50K</th>\n",
       "      <td>3133</td>\n",
       "      <td>5354</td>\n",
       "      <td>0.164435</td>\n",
       "      <td>0.759183</td>\n",
       "      <td>0.126745</td>\n",
       "      <td>0.585170</td>\n",
       "    </tr>\n",
       "    <tr>\n",
       "      <th>&gt;50K</th>\n",
       "      <td>2221</td>\n",
       "      <td>5354</td>\n",
       "      <td>0.164435</td>\n",
       "      <td>0.240817</td>\n",
       "      <td>0.283255</td>\n",
       "      <td>0.414830</td>\n",
       "    </tr>\n",
       "    <tr>\n",
       "      <th rowspan=\"2\" valign=\"top\">Doctorate</th>\n",
       "      <th>&lt;=50K</th>\n",
       "      <td>107</td>\n",
       "      <td>413</td>\n",
       "      <td>0.012684</td>\n",
       "      <td>0.759183</td>\n",
       "      <td>0.004329</td>\n",
       "      <td>0.259080</td>\n",
       "    </tr>\n",
       "    <tr>\n",
       "      <th>&gt;50K</th>\n",
       "      <td>306</td>\n",
       "      <td>413</td>\n",
       "      <td>0.012684</td>\n",
       "      <td>0.240817</td>\n",
       "      <td>0.039026</td>\n",
       "      <td>0.740920</td>\n",
       "    </tr>\n",
       "    <tr>\n",
       "      <th rowspan=\"2\" valign=\"top\">HS-grad</th>\n",
       "      <th>&lt;=50K</th>\n",
       "      <td>8826</td>\n",
       "      <td>10501</td>\n",
       "      <td>0.322512</td>\n",
       "      <td>0.759183</td>\n",
       "      <td>0.357053</td>\n",
       "      <td>0.840491</td>\n",
       "    </tr>\n",
       "    <tr>\n",
       "      <th>&gt;50K</th>\n",
       "      <td>1675</td>\n",
       "      <td>10501</td>\n",
       "      <td>0.322512</td>\n",
       "      <td>0.240817</td>\n",
       "      <td>0.213621</td>\n",
       "      <td>0.159509</td>\n",
       "    </tr>\n",
       "    <tr>\n",
       "      <th rowspan=\"2\" valign=\"top\">Masters</th>\n",
       "      <th>&lt;=50K</th>\n",
       "      <td>764</td>\n",
       "      <td>1723</td>\n",
       "      <td>0.052918</td>\n",
       "      <td>0.759183</td>\n",
       "      <td>0.030907</td>\n",
       "      <td>0.443413</td>\n",
       "    </tr>\n",
       "    <tr>\n",
       "      <th>&gt;50K</th>\n",
       "      <td>959</td>\n",
       "      <td>1723</td>\n",
       "      <td>0.052918</td>\n",
       "      <td>0.240817</td>\n",
       "      <td>0.122306</td>\n",
       "      <td>0.556587</td>\n",
       "    </tr>\n",
       "    <tr>\n",
       "      <th>Preschool</th>\n",
       "      <th>&lt;=50K</th>\n",
       "      <td>51</td>\n",
       "      <td>51</td>\n",
       "      <td>0.001566</td>\n",
       "      <td>0.759183</td>\n",
       "      <td>0.002063</td>\n",
       "      <td>1.000000</td>\n",
       "    </tr>\n",
       "    <tr>\n",
       "      <th rowspan=\"2\" valign=\"top\">Prof-school</th>\n",
       "      <th>&lt;=50K</th>\n",
       "      <td>153</td>\n",
       "      <td>576</td>\n",
       "      <td>0.017690</td>\n",
       "      <td>0.759183</td>\n",
       "      <td>0.006190</td>\n",
       "      <td>0.265625</td>\n",
       "    </tr>\n",
       "    <tr>\n",
       "      <th>&gt;50K</th>\n",
       "      <td>423</td>\n",
       "      <td>576</td>\n",
       "      <td>0.017690</td>\n",
       "      <td>0.240817</td>\n",
       "      <td>0.053947</td>\n",
       "      <td>0.734375</td>\n",
       "    </tr>\n",
       "    <tr>\n",
       "      <th rowspan=\"2\" valign=\"top\">Some-college</th>\n",
       "      <th>&lt;=50K</th>\n",
       "      <td>5904</td>\n",
       "      <td>7291</td>\n",
       "      <td>0.223925</td>\n",
       "      <td>0.759183</td>\n",
       "      <td>0.238845</td>\n",
       "      <td>0.809765</td>\n",
       "    </tr>\n",
       "    <tr>\n",
       "      <th>&gt;50K</th>\n",
       "      <td>1387</td>\n",
       "      <td>7291</td>\n",
       "      <td>0.223925</td>\n",
       "      <td>0.240817</td>\n",
       "      <td>0.176891</td>\n",
       "      <td>0.190235</td>\n",
       "    </tr>\n",
       "  </tbody>\n",
       "</table>\n",
       "</div>"
      ],
      "text/plain": [
       "                      <=50K  Всего людей по классу образования  \\\n",
       "Bachelors     <=50K                                              \n",
       " 10th          <=50K    871                                933   \n",
       "               >50K      62                                933   \n",
       " 11th          <=50K   1115                               1175   \n",
       "               >50K      60                               1175   \n",
       " 12th          <=50K    400                                433   \n",
       "               >50K      33                                433   \n",
       " 1st-4th       <=50K    162                                168   \n",
       "               >50K       6                                168   \n",
       " 5th-6th       <=50K    317                                333   \n",
       "               >50K      16                                333   \n",
       " 7th-8th       <=50K    606                                646   \n",
       "               >50K      40                                646   \n",
       " 9th           <=50K    487                                514   \n",
       "               >50K      27                                514   \n",
       " Assoc-acdm    <=50K    802                               1067   \n",
       "               >50K     265                               1067   \n",
       " Assoc-voc     <=50K   1021                               1382   \n",
       "               >50K     361                               1382   \n",
       " Bachelors     <=50K   3133                               5354   \n",
       "               >50K    2221                               5354   \n",
       " Doctorate     <=50K    107                                413   \n",
       "               >50K     306                                413   \n",
       " HS-grad       <=50K   8826                              10501   \n",
       "               >50K    1675                              10501   \n",
       " Masters       <=50K    764                               1723   \n",
       "               >50K     959                               1723   \n",
       " Preschool     <=50K     51                                 51   \n",
       " Prof-school   <=50K    153                                576   \n",
       "               >50K     423                                576   \n",
       " Some-college  <=50K   5904                               7291   \n",
       "               >50K    1387                               7291   \n",
       "\n",
       "                      P(наблюдать этот класс образования)  P(> или < 50k)  \\\n",
       "Bachelors     <=50K                                                         \n",
       " 10th          <=50K                             0.028655        0.759183   \n",
       "               >50K                              0.028655        0.240817   \n",
       " 11th          <=50K                             0.036087        0.759183   \n",
       "               >50K                              0.036087        0.240817   \n",
       " 12th          <=50K                             0.013299        0.759183   \n",
       "               >50K                              0.013299        0.240817   \n",
       " 1st-4th       <=50K                             0.005160        0.759183   \n",
       "               >50K                              0.005160        0.240817   \n",
       " 5th-6th       <=50K                             0.010227        0.759183   \n",
       "               >50K                              0.010227        0.240817   \n",
       " 7th-8th       <=50K                             0.019840        0.759183   \n",
       "               >50K                              0.019840        0.240817   \n",
       " 9th           <=50K                             0.015786        0.759183   \n",
       "               >50K                              0.015786        0.240817   \n",
       " Assoc-acdm    <=50K                             0.032770        0.759183   \n",
       "               >50K                              0.032770        0.240817   \n",
       " Assoc-voc     <=50K                             0.042445        0.759183   \n",
       "               >50K                              0.042445        0.240817   \n",
       " Bachelors     <=50K                             0.164435        0.759183   \n",
       "               >50K                              0.164435        0.240817   \n",
       " Doctorate     <=50K                             0.012684        0.759183   \n",
       "               >50K                              0.012684        0.240817   \n",
       " HS-grad       <=50K                             0.322512        0.759183   \n",
       "               >50K                              0.322512        0.240817   \n",
       " Masters       <=50K                             0.052918        0.759183   \n",
       "               >50K                              0.052918        0.240817   \n",
       " Preschool     <=50K                             0.001566        0.759183   \n",
       " Prof-school   <=50K                             0.017690        0.759183   \n",
       "               >50K                              0.017690        0.240817   \n",
       " Some-college  <=50K                             0.223925        0.759183   \n",
       "               >50K                              0.223925        0.240817   \n",
       "\n",
       "                      P(класс образования | > или < 50k)  \\\n",
       "Bachelors     <=50K                                        \n",
       " 10th          <=50K                            0.035236   \n",
       "               >50K                             0.007907   \n",
       " 11th          <=50K                            0.045107   \n",
       "               >50K                             0.007652   \n",
       " 12th          <=50K                            0.016182   \n",
       "               >50K                             0.004209   \n",
       " 1st-4th       <=50K                            0.006554   \n",
       "               >50K                             0.000765   \n",
       " 5th-6th       <=50K                            0.012824   \n",
       "               >50K                             0.002041   \n",
       " 7th-8th       <=50K                            0.024516   \n",
       "               >50K                             0.005101   \n",
       " 9th           <=50K                            0.019701   \n",
       "               >50K                             0.003443   \n",
       " Assoc-acdm    <=50K                            0.032445   \n",
       "               >50K                             0.033797   \n",
       " Assoc-voc     <=50K                            0.041304   \n",
       "               >50K                             0.046040   \n",
       " Bachelors     <=50K                            0.126745   \n",
       "               >50K                             0.283255   \n",
       " Doctorate     <=50K                            0.004329   \n",
       "               >50K                             0.039026   \n",
       " HS-grad       <=50K                            0.357053   \n",
       "               >50K                             0.213621   \n",
       " Masters       <=50K                            0.030907   \n",
       "               >50K                             0.122306   \n",
       " Preschool     <=50K                            0.002063   \n",
       " Prof-school   <=50K                            0.006190   \n",
       "               >50K                             0.053947   \n",
       " Some-college  <=50K                            0.238845   \n",
       "               >50K                             0.176891   \n",
       "\n",
       "                      P( > или < 50k | класс образования)  \n",
       "Bachelors     <=50K                                        \n",
       " 10th          <=50K                             0.933548  \n",
       "               >50K                              0.066452  \n",
       " 11th          <=50K                             0.948936  \n",
       "               >50K                              0.051064  \n",
       " 12th          <=50K                             0.923788  \n",
       "               >50K                              0.076212  \n",
       " 1st-4th       <=50K                             0.964286  \n",
       "               >50K                              0.035714  \n",
       " 5th-6th       <=50K                             0.951952  \n",
       "               >50K                              0.048048  \n",
       " 7th-8th       <=50K                             0.938080  \n",
       "               >50K                              0.061920  \n",
       " 9th           <=50K                             0.947471  \n",
       "               >50K                              0.052529  \n",
       " Assoc-acdm    <=50K                             0.751640  \n",
       "               >50K                              0.248360  \n",
       " Assoc-voc     <=50K                             0.738784  \n",
       "               >50K                              0.261216  \n",
       " Bachelors     <=50K                             0.585170  \n",
       "               >50K                              0.414830  \n",
       " Doctorate     <=50K                             0.259080  \n",
       "               >50K                              0.740920  \n",
       " HS-grad       <=50K                             0.840491  \n",
       "               >50K                              0.159509  \n",
       " Masters       <=50K                             0.443413  \n",
       "               >50K                              0.556587  \n",
       " Preschool     <=50K                             1.000000  \n",
       " Prof-school   <=50K                             0.265625  \n",
       "               >50K                              0.734375  \n",
       " Some-college  <=50K                             0.809765  \n",
       "               >50K                              0.190235  "
      ]
     },
     "execution_count": 228,
     "metadata": {},
     "output_type": "execute_result"
    }
   ],
   "source": [
    "series = df_temp.groupby(['Bachelors', '<=50K'])['<=50K'].count()\n",
    "df_grouped = pd.DataFrame(series)\n",
    "df_grouped['Всего людей по классу образования'] = df_grouped.groupby('Bachelors').transform(sum)\n",
    "df_grouped['P(наблюдать этот класс образования)'] = df_grouped['Всего людей по классу образования'] / len(df_temp)\n",
    "df_grouped['P(> или < 50k)'] = probability_less\n",
    "df_grouped.loc[(slice(None), ' >50K'), 'P(> или < 50k)'] = probability_more\n",
    "df_grouped['P(класс образования | > или < 50k)'] = df_grouped['P(наблюдать этот класс образования)'] * (df_grouped['<=50K'] / df_grouped['Всего людей по классу образования']) / df_grouped['P(> или < 50k)']\n",
    "df_grouped['P( > или < 50k | класс образования)'] = (df_grouped['P(> или < 50k)'] * df_grouped['P(класс образования | > или < 50k)']) / (df_grouped['Всего людей по классу образования'] / len(df_temp))\n",
    "df_grouped"
   ]
  },
  {
   "cell_type": "markdown",
   "metadata": {
    "id": "LZ7sRnJx-Rtq"
   },
   "source": [
    "Из таблицы видно, что вероятность получать более 50 тыс $ в год растет с образованием. См. вероятности >50K у бакалавров, мастеров и докторов (0.414830, 0.556587, 0.740920)"
   ]
  },
  {
   "cell_type": "markdown",
   "metadata": {
    "id": "DR2hJaeT_FNj"
   },
   "source": [
    "# Задача 2 (2б)"
   ]
  },
  {
   "cell_type": "markdown",
   "metadata": {
    "id": "1RSOjWEb_JPH"
   },
   "source": [
    "Производитель спринклерных установок, используемых для противопожарной защиты офисных зданий, утверждает, что истинная средняя температура срабатывания системы составляет 130°. Выборка из n = 9 систем при тестировании дает среднюю температуру активации образца 131,08°F. Если распределение времени активации нормально при стандартном отклонении 1,5°F, противоречат ли данные утверждениям производителя на уровне значимости $\\alpha = 0.01$?\n",
    "\n",
    "В решении не использовать готовый функционал из stats. Следует расписать (тезисно основные шаги)"
   ]
  },
  {
   "cell_type": "code",
   "execution_count": 119,
   "metadata": {},
   "outputs": [
    {
     "data": {
      "text/plain": [
       "2.160000000000025"
      ]
     },
     "execution_count": 119,
     "metadata": {},
     "output_type": "execute_result"
    }
   ],
   "source": [
    "mu_ad = 130\n",
    "mu_experiment = 131.08\n",
    "sigma = 1.5\n",
    "n = 9\n",
    "\n",
    "# в соответсвии с ЦПТ (при многократном эксперименте) выборчные средние бы распределились вокруг\n",
    "# среднего генеральной совокупности с SE \n",
    "SE = sigma/np.sqrt(n) # стандартная ошибка средней\n",
    "\n",
    "# теперь узнаем насколько далеко наше выборочное среднее отклонилось от предполагаемого среднего\n",
    "# среднего значения генеральной совокупности в единицах стандартного отклонения?\n",
    "# - z преобразование\n",
    "z_stat = (mu_experiment - mu_ad)/SE\n",
    "z_stat"
   ]
  },
  {
   "cell_type": "markdown",
   "metadata": {},
   "source": [
    "H0: mu = 130\n",
    "H1: mu != 130"
   ]
  },
  {
   "cell_type": "markdown",
   "metadata": {},
   "source": [
    "#### Судя по диапазону, данные не противоречат утверждениям производителя\n",
    "но я не уверен, что правильно понял задание"
   ]
  },
  {
   "cell_type": "code",
   "execution_count": 120,
   "metadata": {
    "id": "HzAnyi0uAqbx"
   },
   "outputs": [
    {
     "data": {
      "text/plain": [
       "(129.93448701447778, 132.22551298552224)"
      ]
     },
     "execution_count": 120,
     "metadata": {},
     "output_type": "execute_result"
    }
   ],
   "source": [
    "z_critical = 2.896 #2-сторон. по таблице Стьюдента для 8 степеней свободы и alpha = 0.01\n",
    "#z_critical > z_stat, H0 верна\n",
    "#посмотрим на доверительный интервал\n",
    "a = mu_experiment - z_stat * sigma / (n - 1)**0.5\n",
    "b = mu_experiment + z_stat * sigma / (n - 1)**0.5\n",
    "a, b"
   ]
  },
  {
   "cell_type": "markdown",
   "metadata": {
    "id": "3gKxhqurBQXu"
   },
   "source": [
    "Замечание: неравенство в Ха подразумевает, что тест является двусторонним, поэтому значение P является результатом удвоения захваченной площади хвоста:\n",
    "\n",
    "P = 2[1 - Ф(z_stat)] = ..."
   ]
  },
  {
   "cell_type": "markdown",
   "metadata": {},
   "source": [
    "#### здесь у меня получается значение на единицу бОльшее:"
   ]
  },
  {
   "cell_type": "code",
   "execution_count": 329,
   "metadata": {},
   "outputs": [
    {
     "data": {
      "text/plain": [
       "1.0308000000000002"
      ]
     },
     "execution_count": 329,
     "metadata": {},
     "output_type": "execute_result"
    }
   ],
   "source": [
    "Fi_z_stat = 0.4846 #по таблице значений функции Лапласа для z_stat = 2.16\n",
    "P = 2 * (1 - Fi_z_stat)\n",
    "P"
   ]
  },
  {
   "cell_type": "code",
   "execution_count": null,
   "metadata": {
    "colab": {
     "base_uri": "https://localhost:8080/"
    },
    "id": "yyrSNjXRBeK7",
    "outputId": "bb6da51e-fb04-4006-bf03-98c390a83490"
   },
   "outputs": [
    {
     "data": {
      "text/plain": [
       "0.03079999999999994"
      ]
     },
     "execution_count": 12,
     "metadata": {
      "tags": []
     },
     "output_type": "execute_result"
    }
   ],
   "source": []
  },
  {
   "cell_type": "markdown",
   "metadata": {
    "id": "o-6Agr0hB2hg"
   },
   "source": [
    "Вывод:\n",
    "\n",
    "#### С вероятностью 99% производитель не обманывает\n"
   ]
  },
  {
   "cell_type": "markdown",
   "metadata": {
    "id": "LrbUhfS3Ca54"
   },
   "source": [
    "# Задача 3 (3б)"
   ]
  },
  {
   "cell_type": "markdown",
   "metadata": {
    "id": "iDa6mvS0Cc7m"
   },
   "source": [
    "Динамический конический пенетрометр (ДКП) используется для измерения сопротивления материала проникновению, так как конус вбивается в дорожное покрытие или основание. Предположим, что для конкретного применения необходимо, чтобы истинное среднее значение ДКП для определенного типа покрытия было меньше 30. Это покрытие не будет использоваться до тех пор, пока не будет убедительно доказано, что технические условия были соблюдены. Проверить соответствующие гипотезы, используя следующие данные: "
   ]
  },
  {
   "cell_type": "code",
   "execution_count": 3,
   "metadata": {
    "id": "u0oPco72BpoT"
   },
   "outputs": [],
   "source": [
    "arr = [14.1, 14.5, 15.5, 16.0, 16.0, 16.7, 16.9, 17.1, 17.5, 17.8, 17.8, 18.1, 18.2, 18.3, 18.3, 19.0, 19.2, 19.4, 20.0, 20.0, 20.8, 20.8, 21.0, 21.5, 23.5, 27.5, 27.5, 28.0, 28.3, 30.0, 30.0, 31.6, 31.7, 31.7, 32.5, 33.5, 33.9, 35.0, 35.0, 35.0, 36.7, 40.0, 40.0, 41.3, 41.7, 47.5, 50.0, 51.0, 51.8, 54.4, 55.0, 57.0]"
   ]
  },
  {
   "cell_type": "markdown",
   "metadata": {
    "id": "Oc1g5pozF4r4"
   },
   "source": [
    "Визуализировать данные с помощью описательных статистик (см. вывод ниже) и построить .95 доверительные интервалы для $\\mu, \\sigma, Median$"
   ]
  },
  {
   "cell_type": "code",
   "execution_count": 87,
   "metadata": {
    "scrolled": false
   },
   "outputs": [
    {
     "name": "stderr",
     "output_type": "stream",
     "text": [
      "D:\\anaconda3\\lib\\site-packages\\seaborn\\distributions.py:2551: FutureWarning: `distplot` is a deprecated function and will be removed in a future version. Please adapt your code to use either `displot` (a figure-level function with similar flexibility) or `histplot` (an axes-level function for histograms).\n",
      "  warnings.warn(msg, FutureWarning)\n"
     ]
    },
    {
     "data": {
      "text/plain": [
       "<matplotlib.legend.Legend at 0x1fb258a8d30>"
      ]
     },
     "execution_count": 87,
     "metadata": {},
     "output_type": "execute_result"
    },
    {
     "data": {
      "image/png": "[encoded data removed]",
      "text/plain": [
       "<Figure size 864x576 with 1 Axes>"
      ]
     },
     "metadata": {
      "needs_background": "light"
     },
     "output_type": "display_data"
    }
   ],
   "source": [
    "plt.figure(figsize=(12, 8))\n",
    "arr = np.array(arr)\n",
    "mu=30\n",
    "mu_sample = np.mean(arr)\n",
    "sigma_sample = np.std(arr)\n",
    "median_sample = np.median(arr)\n",
    "T1_mu_sample = mu_sample - 1.96 * (sigma_sample / np.sqrt(len(arr) - 1))\n",
    "T2_mu_sample = mu_sample + 1.96 * (sigma_sample / np.sqrt(len(arr) - 1))\n",
    "sns.distplot(arr)\n",
    "#plt.axvline(median_sample, color='r', linestyle = '--', label='Медиана выборки')\n",
    "plt.axvline(mu_sample, color='r', label='Выборочное среднее')\n",
    "plt.axvline(T2_mu_sample, color='r', linestyle = ':', label='Верхняя граница доверительного интервала')\n",
    "plt.legend(fontsize = 12)"
   ]
  },
  {
   "cell_type": "markdown",
   "metadata": {},
   "source": [
    "#### 30 меньше верхней границы доверительного интервала, а значит с вероятностью 95% технические условия не соблюдены"
   ]
  },
  {
   "cell_type": "markdown",
   "metadata": {},
   "source": [
    "#### Доверительный интервал для медианы:"
   ]
  },
  {
   "cell_type": "code",
   "execution_count": 69,
   "metadata": {},
   "outputs": [
    {
     "name": "stderr",
     "output_type": "stream",
     "text": [
      "D:\\anaconda3\\lib\\site-packages\\seaborn\\distributions.py:2551: FutureWarning: `distplot` is a deprecated function and will be removed in a future version. Please adapt your code to use either `displot` (a figure-level function with similar flexibility) or `histplot` (an axes-level function for histograms).\n",
      "  warnings.warn(msg, FutureWarning)\n"
     ]
    },
    {
     "data": {
      "text/plain": [
       "<matplotlib.legend.Legend at 0x1fb27a579d0>"
      ]
     },
     "execution_count": 69,
     "metadata": {},
     "output_type": "execute_result"
    },
    {
     "data": {
      "image/png": "[encoded data removed]",
      "text/plain": [
       "<Figure size 864x576 with 1 Axes>"
      ]
     },
     "metadata": {
      "needs_background": "light"
     },
     "output_type": "display_data"
    }
   ],
   "source": [
    "plt.figure(figsize=(12, 8))\n",
    "#при объеме выорки 52 и 95% уровне доверия нижняя граница доверительного интервала\n",
    "#19й элемент отсортированного списка при нумерации с 1\n",
    "#или 18й при нумерации с нуля\n",
    "#T1_median_sample = sorted(arr)[18]\n",
    "#верхняя граница n - k + 1 = 34 или 33й элемент\n",
    "T2_median_sample = sorted(arr)[33]\n",
    "sns.distplot(arr)\n",
    "plt.axvline(median_sample, color='g', label='Медиана')\n",
    "plt.axvline(T2_median_sample, color='g', linestyle=':', label='Верхняя граница доверительного интервала')\n",
    "plt.legend(fontsize = 12)"
   ]
  },
  {
   "cell_type": "markdown",
   "metadata": {},
   "source": [
    "#### Доверительный интервал для sigma:"
   ]
  },
  {
   "cell_type": "code",
   "execution_count": 128,
   "metadata": {},
   "outputs": [
    {
     "data": {
      "text/plain": [
       "(9.595494251417907, 14.696896258500843)"
      ]
     },
     "execution_count": 128,
     "metadata": {},
     "output_type": "execute_result"
    }
   ],
   "source": [
    "#для n = 52 и 95% доверительного интервала примем \n",
    "q = 0.21\n",
    "T1_sigma_sample = sigma_sample*(1-q)\n",
    "T2_sigma_sample = sigma_sample*(1+q)\n",
    "T1_sigma_sample, T2_sigma_sample"
   ]
  },
  {
   "cell_type": "markdown",
   "metadata": {
    "id": "Dvy8GIThD0Ze"
   },
   "source": [
    "Ваши рассуждения\n",
    "#### с вероятностью 95% технические условия не соблюдены"
   ]
  },
  {
   "cell_type": "code",
   "execution_count": 134,
   "metadata": {},
   "outputs": [
    {
     "name": "stderr",
     "output_type": "stream",
     "text": [
      "D:\\anaconda3\\lib\\site-packages\\seaborn\\_decorators.py:36: FutureWarning: Pass the following variable as a keyword arg: x. From version 0.12, the only valid positional argument will be `data`, and passing other arguments without an explicit keyword will result in an error or misinterpretation.\n",
      "  warnings.warn(\n",
      "D:\\anaconda3\\lib\\site-packages\\seaborn\\distributions.py:2551: FutureWarning: `distplot` is a deprecated function and will be removed in a future version. Please adapt your code to use either `displot` (a figure-level function with similar flexibility) or `histplot` (an axes-level function for histograms).\n",
      "  warnings.warn(msg, FutureWarning)\n"
     ]
    },
    {
     "data": {
      "text/plain": [
       "count    52.000000\n",
       "mean     28.761538\n",
       "std      12.264698\n",
       "min      14.100000\n",
       "25%      18.275000\n",
       "50%      27.500000\n",
       "75%      35.000000\n",
       "max      57.000000\n",
       "dtype: float64"
      ]
     },
     "execution_count": 134,
     "metadata": {},
     "output_type": "execute_result"
    },
    {
     "data": {
      "image/png": "[encoded data removed]",
      "text/plain": [
       "<Figure size 1080x720 with 2 Axes>"
      ]
     },
     "metadata": {
      "needs_background": "light"
     },
     "output_type": "display_data"
    }
   ],
   "source": [
    "f, (ax_box, ax_hist) = plt.subplots(2, sharex=True, gridspec_kw={\"height_ratios\": (0.15, 0.85)})\n",
    "sns.boxplot(arr, ax=ax_box)\n",
    "sns.distplot(arr, ax=ax_hist)\n",
    "pd.Series(arr).describe()"
   ]
  },
  {
   "cell_type": "code",
   "execution_count": 110,
   "metadata": {},
   "outputs": [
    {
     "data": {
      "text/plain": [
       "(25.34702486909686, 32.176052053980065)"
      ]
     },
     "execution_count": 110,
     "metadata": {},
     "output_type": "execute_result"
    }
   ],
   "source": [
    "#здесь рассчитаны границы доверительных интервалов для alpha = 0.01, т.е. t критерий по\n",
    "#таблице Стьюдента для 52 наблюдений равен 2.007583768155882\n",
    "t_critical = stats.t.ppf(q = 0.975, df=len(arr)-1)\n",
    "x0 = mu_sample - t_critical * (sigma_sample / np.sqrt(len(arr) - 1))\n",
    "x1 = mu_sample + t_critical * (sigma_sample / np.sqrt(len(arr) - 1))\n",
    "x0, x1"
   ]
  },
  {
   "cell_type": "code",
   "execution_count": 116,
   "metadata": {},
   "outputs": [
    {
     "data": {
      "text/plain": [
       "-0.7281608975300252"
      ]
     },
     "execution_count": 116,
     "metadata": {},
     "output_type": "execute_result"
    }
   ],
   "source": [
    "#ошибка среднего\n",
    "SE = sigma_sample/np.sqrt(len(arr) - 1)\n",
    "(mu_sample - 30)/SE"
   ]
  },
  {
   "cell_type": "code",
   "execution_count": 80,
   "metadata": {},
   "outputs": [
    {
     "data": {
      "text/plain": [
       "0.24801872461073715"
      ]
     },
     "execution_count": 80,
     "metadata": {},
     "output_type": "execute_result"
    }
   ],
   "source": []
  },
  {
   "cell_type": "code",
   "execution_count": 137,
   "metadata": {
    "colab": {
     "base_uri": "https://localhost:8080/",
     "height": 626
    },
    "id": "t8fjjg6sPo2e",
    "outputId": "75a3f745-be78-454d-9cf4-d0fc6a4aac43"
   },
   "outputs": [
    {
     "name": "stderr",
     "output_type": "stream",
     "text": [
      "D:\\anaconda3\\lib\\site-packages\\seaborn\\_decorators.py:36: FutureWarning: Pass the following variable as a keyword arg: x. From version 0.12, the only valid positional argument will be `data`, and passing other arguments without an explicit keyword will result in an error or misinterpretation.\n",
      "  warnings.warn(\n",
      "D:\\anaconda3\\lib\\site-packages\\seaborn\\distributions.py:2551: FutureWarning: `distplot` is a deprecated function and will be removed in a future version. Please adapt your code to use either `displot` (a figure-level function with similar flexibility) or `histplot` (an axes-level function for histograms).\n",
      "  warnings.warn(msg, FutureWarning)\n"
     ]
    },
    {
     "data": {
      "text/plain": [
       "count    52.000000\n",
       "mean     28.761538\n",
       "std      12.264698\n",
       "min      14.100000\n",
       "25%      18.275000\n",
       "50%      27.500000\n",
       "75%      35.000000\n",
       "max      57.000000\n",
       "dtype: float64"
      ]
     },
     "execution_count": 137,
     "metadata": {},
     "output_type": "execute_result"
    },
    {
     "data": {
      "image/png": "[encoded data removed]",
      "text/plain": [
       "<Figure size 1080x720 with 3 Axes>"
      ]
     },
     "metadata": {
      "needs_background": "light"
     },
     "output_type": "display_data"
    }
   ],
   "source": [
    "f, (ax_box, ax_hist, ax_interval) = plt.subplots(3, sharex=True, gridspec_kw={\"height_ratios\": (0.12, 0.76, 0.12)})\n",
    "sns.boxplot(arr, ax=ax_box)\n",
    "sns.distplot(arr, ax=ax_hist)\n",
    "sns.lineplot(x = np.linspace(x0, x1), y = 1)\n",
    "pd.Series(arr).describe()"
   ]
  },
  {
   "cell_type": "code",
   "execution_count": null,
   "metadata": {
    "colab": {
     "base_uri": "https://localhost:8080/"
    },
    "id": "hsjRS8TIbjMq",
    "outputId": "ed34a56e-4dab-4975-fe00-b96f639808e1",
    "scrolled": true
   },
   "outputs": [
    {
     "name": "stdout",
     "output_type": "stream",
     "text": [
      "-0.7290652982258582\n"
     ]
    }
   ],
   "source": []
  },
  {
   "cell_type": "code",
   "execution_count": null,
   "metadata": {
    "id": "AY2ZsbuchpNG"
   },
   "outputs": [],
   "source": []
  },
  {
   "cell_type": "markdown",
   "metadata": {
    "id": "_jqjKg9yhzLp"
   },
   "source": [
    "Ваш вывод\n"
   ]
  },
  {
   "cell_type": "markdown",
   "metadata": {
    "id": "0l4oj2NNi3hu"
   },
   "source": [
    "# Задача 4 (2б)\n"
   ]
  },
  {
   "cell_type": "markdown",
   "metadata": {
    "id": "K6pjjPqHi9Tl"
   },
   "source": [
    "Обширный мониторинг компьютерной системы совместного использования времени показал, что время отклика на конкретную команду редактирования, как правило, распределяется со стандартным отклонением 25 миллисекунд. Была установлена новая операционная система, и мы хотим оценить истинное среднее время отклика $\\mu$ для новой среды. Если предположить, что время отклика все еще нормально распределено с $\\sigma = $ 25, то какой размер выборки необходим для того, чтобы получившийся 95% доверительный интервал имел ширину (максимум) 10?"
   ]
  },
  {
   "cell_type": "markdown",
   "metadata": {
    "id": "jKM6EJXxjcfR"
   },
   "source": [
    "Ваши рассуждения\n",
    "для 95% интервала z значение 1,96. Зная его, мат.ожидание и ско, можем вычислить верхнюю и нижнюю границу.\n",
    "Ширина диапазона это разница между верхней и нижней."
   ]
  },
  {
   "cell_type": "code",
   "execution_count": 162,
   "metadata": {
    "colab": {
     "base_uri": "https://localhost:8080/"
    },
    "id": "iyp0ApXWhxK0",
    "outputId": "024ae404-0ee6-4c16-b85d-687fd4edf79b"
   },
   "outputs": [
    {
     "data": {
      "text/plain": [
       "9.8"
      ]
     },
     "execution_count": 162,
     "metadata": {},
     "output_type": "execute_result"
    }
   ],
   "source": [
    "sigma = 25\n",
    "#alpha = 0.05\n",
    "z = 1.96\n",
    "mu = 25\n",
    "#(mu + z * sigma / (n - 1)**0.5) - (mu - z * sigma / (n - 1)**0.5) = 10\n",
    "# z * sigma / (n - 1)**0.5 + z * sigma / (n - 1)**0.5 = 10\n",
    "# z * sigma / (n - 1)**0.5 = 5\n",
    "# (n - 1)**0.5 = z * sigma / 5\n",
    "# (n - 1)**0.5 = z * sigma / 5\n",
    "z * sigma / 5"
   ]
  },
  {
   "cell_type": "code",
   "execution_count": 166,
   "metadata": {},
   "outputs": [
    {
     "data": {
      "text/plain": [
       "96.04"
      ]
     },
     "execution_count": 166,
     "metadata": {},
     "output_type": "execute_result"
    }
   ],
   "source": [
    "n = ((1.96 * sigma)**2 / 25) + 1\n",
    "n - 1"
   ]
  },
  {
   "cell_type": "code",
   "execution_count": 167,
   "metadata": {},
   "outputs": [
    {
     "data": {
      "text/plain": [
       "9.8"
      ]
     },
     "execution_count": 167,
     "metadata": {},
     "output_type": "execute_result"
    }
   ],
   "source": [
    "#перепроверю\n",
    "(n-1)**0.5"
   ]
  },
  {
   "cell_type": "markdown",
   "metadata": {
    "id": "L3cfLgT4kNw8"
   },
   "source": [
    "Ваш вывод\n",
    "#### чтобы 95% доверительный интервал имел ширину максимум 10 необходимо максимум 96 наблюдений"
   ]
  },
  {
   "cell_type": "markdown",
   "metadata": {
    "id": "eXzYQO8EmCKr"
   },
   "source": [
    "# Задача на бонусный балл"
   ]
  },
  {
   "cell_type": "markdown",
   "metadata": {
    "id": "rASFQmvjmI_g"
   },
   "source": [
    "Предположим мы сместили центр масс монеты таким образом, что выпадает она в 65% случаев решкой. Сколько подбрасываний нужно при заданном уровне значимости, чтобы определить, что она фальшивая? (ну т.е. не 50/50 вероятности орел/решка)"
   ]
  },
  {
   "cell_type": "markdown",
   "metadata": {
    "id": "GeRSOsVMnz5x"
   },
   "source": [
    "Ваши рассуждения"
   ]
  },
  {
   "cell_type": "markdown",
   "metadata": {
    "id": "71o7qmr0kCa5"
   },
   "source": [
    "допустим вероятность выпадения решки для честной монеты это p1,\n",
    "для \"нечестной\" p2\n",
    "тогда модуль разницы |p1 - p2| должен быть меньше предела погрешности err_lim\n",
    "допустим, наш уровень доверия 95%, т.е. err_lim = 0.05, тогда z_critical = 1.96\n",
    "err_lim = SE (стандартная ошибка) * z_critical (для нашего доверительного интервала)\n",
    "SE для данного распределения = корень p * q / n (число испытаний)\n",
    "где p и q - вероятности \"успеха\" и \"неуспеха\" с максимумом в p = q = (1 - p) = 0.5\n",
    "соответственно максимум SE = 0.5 / корень(n) = 1 / (2 * np.sqrt(n)) \n",
    "##### err_lim = z_critical / (2 * np.sqrt(n))\n",
    "##### np.sqrt(n) = z_critical / (2 * err_lim)\n",
    "##### n = квадрат(z_critical) / (4 * квадрат(err_lim))"
   ]
  },
  {
   "cell_type": "code",
   "execution_count": 160,
   "metadata": {},
   "outputs": [
    {
     "data": {
      "text/plain": [
       "385"
      ]
     },
     "execution_count": 160,
     "metadata": {},
     "output_type": "execute_result"
    }
   ],
   "source": [
    "z_critical_95 = norm.ppf(0.975)\n",
    "err_lim = 0.05\n",
    "n_95 = z_critical_95**2 / (4 * err_lim**2)\n",
    "round(n_95 + 1)"
   ]
  },
  {
   "cell_type": "markdown",
   "metadata": {},
   "source": [
    "#### чтобы доказать, что монета \"нечестная\" с вероятностью в 95% необходимо не менее 385 подбрасываний"
   ]
  }
 ],
 "metadata": {
  "colab": {
   "collapsed_sections": [],
   "name": "Копия блокнота \"ДЗ№4.ipynb\"",
   "provenance": []
  },
  "kernelspec": {
   "display_name": "Python 3",
   "language": "python",
   "name": "python3"
  },
  "language_info": {
   "codemirror_mode": {
    "name": "ipython",
    "version": 3
   },
   "file_extension": ".py",
   "mimetype": "text/x-python",
   "name": "python",
   "nbconvert_exporter": "python",
   "pygments_lexer": "ipython3",
   "version": "3.8.5"
  }
 },
 "nbformat": 4,
 "nbformat_minor": 1
}
