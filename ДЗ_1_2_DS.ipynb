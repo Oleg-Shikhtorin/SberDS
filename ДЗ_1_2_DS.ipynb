{
 "cells": [
  {
   "cell_type": "markdown",
   "metadata": {},
   "source": [
    "<h1 style=\"color:green\">Выполнил(а): Шихторин Олег Анатольевич</h1>"
   ]
  },
  {
   "cell_type": "markdown",
   "metadata": {
    "colab_type": "text",
    "id": "M6n_8Kgn9YIT"
   },
   "source": [
    "# Несколько заданий на пройденный материал"
   ]
  },
  {
   "cell_type": "markdown",
   "metadata": {
    "colab_type": "text",
    "id": "TT2xjEgu9nCx"
   },
   "source": [
    "*Подсказка!* проверяйте ваше решение по тому, что уже есть в блоках вывода ячеек"
   ]
  },
  {
   "cell_type": "markdown",
   "metadata": {},
   "source": [
    "<div style=\"background:red\">&nbsp;</div>\n",
    "<h1>Занятие 1</h1>\n",
    "<div style=\"background:red\">&nbsp;</div>"
   ]
  },
  {
   "cell_type": "markdown",
   "metadata": {
    "colab_type": "text",
    "id": "p8V0RKCF94h6"
   },
   "source": [
    "## Задача 1\n",
    "\n",
    "Создайте переменную a = 10, возвести значение в 3 степень и найти остаток от деления на 3."
   ]
  },
  {
   "cell_type": "code",
   "execution_count": 1,
   "metadata": {
    "colab": {
     "base_uri": "https://localhost:8080/",
     "height": 35
    },
    "colab_type": "code",
    "id": "_N-Bcj6D9300",
    "outputId": "af5151c0-2652-41a2-ab94-56246146b1fc"
   },
   "outputs": [
    {
     "name": "stdout",
     "output_type": "stream",
     "text": [
      "1\n"
     ]
    }
   ],
   "source": [
    "a = 10\n",
    "print((a ** 3) % 3)"
   ]
  },
  {
   "cell_type": "markdown",
   "metadata": {
    "colab_type": "text",
    "id": "S2BzQt1E99Np"
   },
   "source": [
    "## Задача 2\n",
    "\n",
    "Найдите площадь круга с радиусом 1.23456.\n",
    "\n",
    "(Считаем π = 3.14)"
   ]
  },
  {
   "cell_type": "code",
   "execution_count": 26,
   "metadata": {
    "colab": {
     "base_uri": "https://localhost:8080/",
     "height": 35
    },
    "colab_type": "code",
    "id": "mkN8EOc098t9",
    "outputId": "287c4ff0-b8d7-4f38-9791-b7b8c3ec4b75"
   },
   "outputs": [
    {
     "data": {
      "text/plain": [
       "4.785794555904"
      ]
     },
     "execution_count": 26,
     "metadata": {},
     "output_type": "execute_result"
    }
   ],
   "source": [
    "pi= 3.14\n",
    "r = 1.23456\n",
    "pi * (r ** 2)"
   ]
  },
  {
   "cell_type": "markdown",
   "metadata": {
    "colab_type": "text",
    "id": "nP-f4Qd2-BTI"
   },
   "source": [
    "## Задача 3\n",
    "\n",
    "Найдите, истинно ли, что 2 в 10 степени больше 1000 при условии, что 4 в 7й степени меньше 8 в 5й.\n",
    "\n"
   ]
  },
  {
   "cell_type": "code",
   "execution_count": 27,
   "metadata": {
    "colab": {
     "base_uri": "https://localhost:8080/",
     "height": 35
    },
    "colab_type": "code",
    "id": "-reh5tB2-CPF",
    "outputId": "1778e92d-4a0b-4765-ac6f-ab6893dfbf2c"
   },
   "outputs": [
    {
     "name": "stdout",
     "output_type": "stream",
     "text": [
      "True\n"
     ]
    }
   ],
   "source": [
    "if 4 ** 7 < 8 ** 5:\n",
    "    print(2 ** 10 > 1000)"
   ]
  },
  {
   "cell_type": "markdown",
   "metadata": {
    "colab_type": "text",
    "id": "XcaKAyzZ-MOL"
   },
   "source": [
    "## Задача 4\n",
    "\n",
    "Мы принимаем целое число на ввод с клавиатуры (код предоставлен), вывести \"цена выше рынка\", если число выше 1200, \"цена ниже рыночной\", если число меньше 800 и \"все ок\" в остальных случаях."
   ]
  },
  {
   "cell_type": "code",
   "execution_count": 4,
   "metadata": {
    "colab": {
     "base_uri": "https://localhost:8080/",
     "height": 52
    },
    "colab_type": "code",
    "id": "3yLvK2JL-R1g",
    "outputId": "e7e02009-c04c-45f5-922b-9156130dad30"
   },
   "outputs": [
    {
     "name": "stdout",
     "output_type": "stream",
     "text": [
      "Введите цену товара: 1000\n",
      "все ок\n"
     ]
    }
   ],
   "source": [
    "price = int(input('Введите цену товара: '))\n",
    "if price > 1200:\n",
    "    print('цена выше рынка')\n",
    "elif price < 800:\n",
    "    print('цена ниже рыночной')\n",
    "else:\n",
    "    print('все ок')"
   ]
  },
  {
   "cell_type": "markdown",
   "metadata": {
    "colab_type": "text",
    "id": "lV0tQp8J-bFI"
   },
   "source": [
    "## Задача 5\n",
    "\n",
    "Распечатайте с 4 по 8 символ фразы \"Привет мир!\" приведенные к верхнему регистру."
   ]
  },
  {
   "cell_type": "code",
   "execution_count": 5,
   "metadata": {
    "colab": {
     "base_uri": "https://localhost:8080/",
     "height": 35
    },
    "colab_type": "code",
    "id": "ECKlo9c2-cue",
    "outputId": "099a60e6-c9b8-46e9-bdd2-a000fd64e8f7"
   },
   "outputs": [
    {
     "data": {
      "text/plain": [
       "'ЕТ М'"
      ]
     },
     "execution_count": 5,
     "metadata": {},
     "output_type": "execute_result"
    }
   ],
   "source": [
    "phrase = 'Привет мир!'\n",
    "phrase.upper()[4:8]"
   ]
  },
  {
   "cell_type": "markdown",
   "metadata": {
    "colab_type": "text",
    "id": "2jN3PzaZ-gx4"
   },
   "source": [
    "## Задача 6\n",
    "\n",
    "Создайте переменную, которая хранит описание этой задачи как строку, разделите слова по пробелам и приведите к нижнему регистру."
   ]
  },
  {
   "cell_type": "code",
   "execution_count": 6,
   "metadata": {
    "colab": {
     "base_uri": "https://localhost:8080/",
     "height": 329
    },
    "colab_type": "code",
    "id": "A-Ro4i8u-iHv",
    "outputId": "aa7b8330-28df-440d-f401-068f11c2f0a6"
   },
   "outputs": [
    {
     "data": {
      "text/plain": [
       "['создайте',\n",
       " 'переменную,',\n",
       " 'которая',\n",
       " 'хранит',\n",
       " 'описание',\n",
       " 'этой',\n",
       " 'задачи',\n",
       " 'как',\n",
       " 'строку,',\n",
       " 'разделите',\n",
       " 'слова',\n",
       " 'по',\n",
       " 'пробелам',\n",
       " 'и',\n",
       " 'приведите',\n",
       " 'к',\n",
       " 'нижнему',\n",
       " 'регистру.']"
      ]
     },
     "execution_count": 6,
     "metadata": {},
     "output_type": "execute_result"
    }
   ],
   "source": [
    "s = 'Создайте переменную, которая хранит описание этой задачи как строку, разделите слова по пробелам и приведите к нижнему регистру.'\n",
    "s.lower().split()"
   ]
  },
  {
   "cell_type": "markdown",
   "metadata": {
    "colab_type": "text",
    "id": "nE4N_rxk-l-L"
   },
   "source": [
    "## Задание 7\n",
    "\n",
    "Напишите код, который проверяет, является ли переменная x строкой, и если да, то если в строке больше одного слова (слово--последовательность подряд идущих символов без пробелов), то выводит на экран количество слов в этой строке и сами слова в алфавитном порядке."
   ]
  },
  {
   "cell_type": "code",
   "execution_count": 7,
   "metadata": {
    "colab": {
     "base_uri": "https://localhost:8080/",
     "height": 87
    },
    "colab_type": "code",
    "id": "INh5TwAM9Xmf",
    "outputId": "31ba633f-f368-44ef-e80a-875e295dd876"
   },
   "outputs": [
    {
     "name": "stdout",
     "output_type": "stream",
     "text": [
      "3\n",
      "hello\n",
      "world\n",
      "z\n"
     ]
    }
   ],
   "source": [
    "x = 'z hello world'\n",
    "if type(x) == str:\n",
    "    if len(x.split()) > 1:\n",
    "        print(len(x.split()))\n",
    "        for w in sorted(x.split()):\n",
    "            print(w)"
   ]
  },
  {
   "cell_type": "markdown",
   "metadata": {
    "colab_type": "text",
    "id": "TR1Wvx_Z-tlI"
   },
   "source": [
    "## Задание 8\n",
    "\n",
    "Напишите код, который все элементы массива x с **нечетными** индексами переставит в обратном порядке.\n",
    "\n",
    "Т.е. если x = [0, 1, 2, 3, 4, 5, 6, 7, 8, 9], то код должен получать [0, 9, 2, 7, 4, 5, 6, 3, 8, 1]"
   ]
  },
  {
   "cell_type": "code",
   "execution_count": 8,
   "metadata": {
    "colab": {
     "base_uri": "https://localhost:8080/",
     "height": 35
    },
    "colab_type": "code",
    "id": "hh2ackf09QjM",
    "outputId": "6a2fe33c-e7ce-43a3-d728-c517f6abf477"
   },
   "outputs": [
    {
     "data": {
      "text/plain": [
       "[0, 9, 2, 7, 4, 5, 6, 3, 8, 1]"
      ]
     },
     "execution_count": 8,
     "metadata": {},
     "output_type": "execute_result"
    }
   ],
   "source": [
    "x = [0, 1, 2, 3, 4, 5, 6, 7, 8, 9]\n",
    "res = []\n",
    "for i in range(len(x)):\n",
    "    if i % 2 == 0:\n",
    "        res.append(x[i])\n",
    "    else:\n",
    "        res.append(x[-i])\n",
    "res"
   ]
  },
  {
   "cell_type": "markdown",
   "metadata": {
    "colab_type": "text",
    "id": "pdGccRcP-1CC"
   },
   "source": [
    "## Задание 9\n",
    "\n",
    "Напишите цикл, который выводит все числа от 0 до 500, делящиеся на 7, если в них есть цифра 8.\n",
    "\n",
    "*Подсказка*: переменную типа int можно привести к типу str:\n",
    "```\n",
    "x = 5\n",
    "y = str(x)\n",
    "```"
   ]
  },
  {
   "cell_type": "code",
   "execution_count": 28,
   "metadata": {
    "colab": {},
    "colab_type": "code",
    "id": "XAosJEH7sCmT"
   },
   "outputs": [
    {
     "name": "stdout",
     "output_type": "stream",
     "text": [
      "28 84 98 168 182 189 238 280 287 308 378 385 448 483 "
     ]
    }
   ],
   "source": [
    "for i in range(500):\n",
    "    if i % 7 == 0 and '8' in str(i):\n",
    "        print(i, end = ' ')"
   ]
  },
  {
   "cell_type": "markdown",
   "metadata": {
    "colab_type": "text",
    "id": "TVh-gw54BqEm"
   },
   "source": [
    "## Задание 10\n",
    "\n",
    "1. Создайте список `a`, состоящий из каких-то элементов.\n",
    "2. Создайте список `b` такого же размера, как `a`, состоящий из каких-то элементов.\n",
    "3. Выведите **нумерованный список пар** из элементов списков `a` и `b`."
   ]
  },
  {
   "cell_type": "code",
   "execution_count": 10,
   "metadata": {
    "colab": {
     "base_uri": "https://localhost:8080/",
     "height": 52
    },
    "colab_type": "code",
    "id": "WkDpiGDsBcus",
    "outputId": "88ef9397-65ff-4ddf-acd0-5d6c40a2eba1"
   },
   "outputs": [
    {
     "data": {
      "text/plain": [
       "[(0, ('11', 'x')), (1, ('22', 'y')), (2, ('33', 'z'))]"
      ]
     },
     "execution_count": 10,
     "metadata": {},
     "output_type": "execute_result"
    }
   ],
   "source": [
    "# Ваш код здесь\n",
    "# варианты решения ниже\n",
    "a = ['11', '22', '33']\n",
    "b = ['x', 'y', 'z']\n",
    "res = [(i, j) for i, j in enumerate(list(zip(a, b)))]\n",
    "res"
   ]
  },
  {
   "cell_type": "markdown",
   "metadata": {
    "colab_type": "text",
    "id": "51DfEzj3B1gV"
   },
   "source": [
    "## Задание 11\n",
    "\n",
    "Дан массив строк mas. Одной строкой создайте словарь, в котором по ключу строки будет записана пара (кортеж длины 2) (индекс строки в массиве mas, длина строки)"
   ]
  },
  {
   "cell_type": "code",
   "execution_count": 11,
   "metadata": {
    "colab": {
     "base_uri": "https://localhost:8080/",
     "height": 35
    },
    "colab_type": "code",
    "id": "azytv3ENBuH5",
    "outputId": "e0967bea-95a8-4841-bc62-5ef5c6e02163"
   },
   "outputs": [
    {
     "data": {
      "text/plain": [
       "{'abc': (0, 3), 'hello': (1, 5)}"
      ]
     },
     "execution_count": 11,
     "metadata": {},
     "output_type": "execute_result"
    }
   ],
   "source": [
    "mas = ['abc', 'hello']\n",
    "{string: pair for string, pair in list(zip([i for i in mas], zip([mas.index(i) for i in mas], [len(i) for i in mas])))}"
   ]
  },
  {
   "cell_type": "markdown",
   "metadata": {
    "colab_type": "text",
    "id": "NNgNKKtUB-7d"
   },
   "source": [
    "## Задание 12\n",
    "\n",
    "Релизовать функцию, которая возвращает сумму всех позиционных и именованных аргументов."
   ]
  },
  {
   "cell_type": "code",
   "execution_count": 12,
   "metadata": {
    "colab": {
     "base_uri": "https://localhost:8080/",
     "height": 35
    },
    "colab_type": "code",
    "id": "8MrgHc1eB47J",
    "outputId": "19b7e7ff-5c8a-42a3-d752-5b8bc55f6d95"
   },
   "outputs": [
    {
     "name": "stdout",
     "output_type": "stream",
     "text": [
      "15\n"
     ]
    }
   ],
   "source": [
    "s = 0\n",
    "def func(*args, **kwargs):\n",
    "    s = 0\n",
    "    for i in args:\n",
    "        s += i\n",
    "    for j in kwargs.values():\n",
    "        s += j\n",
    "    return s\n",
    "print(func(1, 2, 3, a=4, b=5))"
   ]
  },
  {
   "cell_type": "markdown",
   "metadata": {
    "colab_type": "text",
    "id": "l-3fE5H-CIqe"
   },
   "source": [
    "## Задание 13\n",
    "\n",
    "Реализовать функцию, которая сохраняет в 2 глобальные переменные:\n",
    "* сумму всех позиционных аргументов - релизовать через  lambda;\n",
    "* название всех именованных аргументов в виде списка."
   ]
  },
  {
   "cell_type": "code",
   "execution_count": 15,
   "metadata": {
    "colab": {
     "base_uri": "https://localhost:8080/",
     "height": 35
    },
    "colab_type": "code",
    "id": "Nhp1NLZJCGXI",
    "outputId": "bff2a684-f2b8-4d61-c406-3ef7ac7394a3"
   },
   "outputs": [
    {
     "name": "stdout",
     "output_type": "stream",
     "text": [
      "Cумма 6, названия ['a', 'b']\n"
     ]
    }
   ],
   "source": [
    "summ = 0\n",
    "names = []\n",
    "def another_func(*args, **kwargs):\n",
    "    global summ\n",
    "    global names\n",
    "    summ = (lambda *args: sum(args))(*args)\n",
    "    names = list(kwargs.keys())\n",
    "another_func(1, 2, 3, a=4, b=5)\n",
    "\n",
    "print(f'Cумма {summ}, названия {names}')"
   ]
  },
  {
   "cell_type": "markdown",
   "metadata": {
    "colab_type": "text",
    "id": "HPbaEwHLCTLI"
   },
   "source": [
    "## Задание 14\n",
    "\n",
    "Реализовать класс с 2 функциями:\n",
    "\n",
    "*   Первая функция копирует функционал задачи №13, но сохраняет переменные в области видимости класса;\n",
    "*   Вторая функция отображает на экран сумму и названия именованных аргументов.\n",
    "\n"
   ]
  },
  {
   "cell_type": "code",
   "execution_count": 25,
   "metadata": {
    "colab": {
     "base_uri": "https://localhost:8080/",
     "height": 35
    },
    "colab_type": "code",
    "id": "FvqwsvY4COmH",
    "outputId": "dc41071b-7b87-4faf-9259-ef382de33d34"
   },
   "outputs": [
    {
     "name": "stdout",
     "output_type": "stream",
     "text": [
      "Cумма 6, названия ['a', 'b']\n"
     ]
    }
   ],
   "source": [
    "class Solution():\n",
    "    summ = 0\n",
    "    names = []\n",
    "    def another_func(self, *args, **kwargs):\n",
    "        summ = (lambda *args: sum(args))(*args)\n",
    "        names = list(kwargs.keys())\n",
    "    def print_args_kwargs(self):\n",
    "        print(f'Cумма {summ}, названия {names}')\n",
    "    \n",
    "class_obj = Solution()\n",
    "class_obj.another_func(1, 2, 3, a=4, b=5)\n",
    "class_obj.print_args_kwargs()"
   ]
  },
  {
   "cell_type": "markdown",
   "metadata": {},
   "source": [
    "<div style=\"background:red\">&nbsp;</div>\n",
    "<h1>Занятие 2</h1>\n",
    "<div style=\"background:red\">&nbsp;</div>"
   ]
  },
  {
   "cell_type": "code",
   "execution_count": 29,
   "metadata": {
    "colab": {},
    "colab_type": "code",
    "id": "D-Lc19J4WL-3"
   },
   "outputs": [],
   "source": [
    "# загрузим библиотеки\n",
    "import numpy as np\n",
    "import pandas as pd"
   ]
  },
  {
   "cell_type": "markdown",
   "metadata": {
    "colab_type": "text",
    "id": "ZYcKnimkFRrD"
   },
   "source": [
    "## Задание 1\n",
    "\n",
    "Создайте массив массив из 100 элементов (от 1 до 100), переформатируйте в формат (10 * 10), сделайте слайсинг с шагом 2 по каждой оси."
   ]
  },
  {
   "cell_type": "code",
   "execution_count": 40,
   "metadata": {
    "colab": {
     "base_uri": "https://localhost:8080/",
     "height": 104
    },
    "colab_type": "code",
    "id": "wAPfX3erFUqa",
    "outputId": "dc42bf72-220d-4f84-ffb5-d105d44f1eb5",
    "scrolled": true
   },
   "outputs": [
    {
     "data": {
      "text/plain": [
       "array([[ 1,  3,  5,  7,  9],\n",
       "       [21, 23, 25, 27, 29],\n",
       "       [41, 43, 45, 47, 49],\n",
       "       [61, 63, 65, 67, 69],\n",
       "       [81, 83, 85, 87, 89]])"
      ]
     },
     "execution_count": 40,
     "metadata": {},
     "output_type": "execute_result"
    }
   ],
   "source": [
    "array = np.arange(1, 101).reshape(10, 10)\n",
    "array[0:10:2, 0:10:2]"
   ]
  },
  {
   "cell_type": "markdown",
   "metadata": {
    "colab_type": "text",
    "id": "SrI3heKeV7nP"
   },
   "source": [
    "## Задание 2\n",
    "\n",
    "Написать функцию, которая по заданной длине последовательности находит среднее арифметическое ее членов.\n",
    "\n",
    "Реализуйте задачу с и без помощи numpy, сравните время выполнения"
   ]
  },
  {
   "cell_type": "code",
   "execution_count": 62,
   "metadata": {},
   "outputs": [
    {
     "name": "stdout",
     "output_type": "stream",
     "text": [
      "Среднее арифметическое последовательности 49999999.5\n",
      "Wall time: 484 ms\n"
     ]
    }
   ],
   "source": [
    "%%time\n",
    "# решение с использованием numpy\n",
    "# для оценки времени исоплнения блока\n",
    "# ваш код тут\n",
    "dlina_posl = 100_000_000\n",
    "mean = np.arange(dlina_posl).mean()\n",
    "print(f'Среднее арифметическое последовательности {mean}')"
   ]
  },
  {
   "cell_type": "code",
   "execution_count": 63,
   "metadata": {
    "colab": {
     "base_uri": "https://localhost:8080/",
     "height": 69
    },
    "colab_type": "code",
    "id": "9e3X5PEpWBjA",
    "outputId": "5635c941-4985-4620-880d-f134e065d639"
   },
   "outputs": [
    {
     "name": "stdout",
     "output_type": "stream",
     "text": [
      "Среднее арифметическое последовательности 49999999.5\n",
      "Wall time: 7.94 s\n"
     ]
    }
   ],
   "source": [
    "%%time\n",
    "# решение без использования numpy\n",
    "# для оценки времени исоплнения блока\n",
    "# ваш код тут\n",
    "dlina_posl = 100_000_000\n",
    "mean = sum(range(dlina_posl))/dlina_posl\n",
    "print(f'Среднее арифметическое последовательности {mean}')"
   ]
  },
  {
   "cell_type": "markdown",
   "metadata": {
    "colab_type": "text",
    "id": "aF_IhXzJFWzJ"
   },
   "source": [
    "## Задание 3\n",
    "\n",
    "Задан Series объект s, найти индекс первого элемента отсортированного s, где значения больше 5"
   ]
  },
  {
   "cell_type": "code",
   "execution_count": 76,
   "metadata": {
    "colab": {
     "base_uri": "https://localhost:8080/",
     "height": 35
    },
    "colab_type": "code",
    "id": "PzrBc2RRFYom",
    "outputId": "46bcc281-6c5d-466f-c099-d0df13b45c4e"
   },
   "outputs": [
    {
     "data": {
      "text/plain": [
       "67"
      ]
     },
     "execution_count": 76,
     "metadata": {},
     "output_type": "execute_result"
    }
   ],
   "source": [
    "# задано изначально\n",
    "r = np.random.RandomState(1)\n",
    "s=pd.Series(r.uniform(0, 10, 100))\n",
    "s.sort_values()[s > 5.0].index[0]"
   ]
  },
  {
   "cell_type": "markdown",
   "metadata": {
    "colab_type": "text",
    "id": "lK7mPJPRWcs2"
   },
   "source": [
    "## Задание 4\n",
    "\n",
    "Предположим, что мы наблюдаем за некоторым признаком нашего датасета, но в данных есть пропуски. Ваша задача: реализовать алгоритм заполнения пропущенных значений последним известным с помощью средств python и pandas. (подсказка: вам может помочь функция np.isnan(), которая возвращает True, если число - nan. Для реализации с пандас стоит посмотреть на метод .fillna).\n",
    "\n",
    "Изначальный код с инициализацией такого датасета предоставлен."
   ]
  },
  {
   "cell_type": "code",
   "execution_count": 93,
   "metadata": {
    "colab": {
     "base_uri": "https://localhost:8080/",
     "height": 282
    },
    "colab_type": "code",
    "id": "Eu5g1x-hWcA1",
    "outputId": "622e219a-544b-475d-ebe2-0328ae147ad0"
   },
   "outputs": [
    {
     "data": {
      "text/plain": [
       "[<matplotlib.lines.Line2D at 0x2a82b84ab80>]"
      ]
     },
     "execution_count": 93,
     "metadata": {},
     "output_type": "execute_result"
    },
    {
     "data": {
      "image/png": "[encoded data removed]",
      "text/plain": [
       "<Figure size 432x288 with 1 Axes>"
      ]
     },
     "metadata": {
      "needs_background": "light"
     },
     "output_type": "display_data"
    }
   ],
   "source": [
    "# импортируем библиотеку для создания шума\n",
    "import random\n",
    "# библиотека для визуализации\n",
    "import matplotlib.pyplot as plt\n",
    "\n",
    "# создадим наши данные и добавим к каждой точке синусоиды случайный шум\n",
    "a = np.linspace(0, 25, 100)\n",
    "a = np.sin(a) + [random.gauss(0, 0.2) for i in range(len(a))]\n",
    "\n",
    "# создадим 10 случайных пропусков\n",
    "for i in range(10):\n",
    "    a[random.randint(0, len(a) - 1)] = None\n",
    "# создадим датафрейм\n",
    "df = pd.DataFrame({'target':a})\n",
    "\n",
    "# ваш код тут\n",
    "df.fillna(method = 'bfill', inplace = True)\n",
    "# отобразим\n",
    "plt.plot(df.target.values)"
   ]
  },
  {
   "cell_type": "markdown",
   "metadata": {
    "colab_type": "text",
    "id": "5gYj1TeyW9Aq"
   },
   "source": [
    "## Задание 5\n",
    "\n",
    "Имеется небольшой игрушечный датафрейм, в котором необходимо провести несколько типов фильтраций (ответы ищите в решениях) и отобразить результат:\n",
    "\n",
    "* всех, кто старше 40\n",
    "* всех, кто имеет доход выше среднего по датасету\n",
    "* всех, кто имеет доход выше среднего по датасету, но надежность ниже среднего по датасету\n",
    "\n",
    "создать новые столбцы:\n",
    "\n",
    "* важность клиента = доход * надежность\n",
    "* возможная долгосрочность клиента = важность клиента * (средний возраст по датасету - возраст клиента)\n",
    "\n",
    "`подсказка: двойные условия записываются так: (условие 1) & (условие 2)`\n",
    "\n",
    "\n",
    "** примечание: столбцы не имеют отношения к реальным формулам или моделям, они необходимы только для наглядности"
   ]
  },
  {
   "cell_type": "code",
   "execution_count": 116,
   "metadata": {
    "colab": {
     "base_uri": "https://localhost:8080/",
     "height": 171
    },
    "colab_type": "code",
    "id": "vHvedF6tXAWF",
    "outputId": "f65d673f-77af-44bf-e4cd-72a8b96f24c9"
   },
   "outputs": [
    {
     "data": {
      "text/html": [
       "<div>\n",
       "<style scoped>\n",
       "    .dataframe tbody tr th:only-of-type {\n",
       "        vertical-align: middle;\n",
       "    }\n",
       "\n",
       "    .dataframe tbody tr th {\n",
       "        vertical-align: top;\n",
       "    }\n",
       "\n",
       "    .dataframe thead th {\n",
       "        text-align: right;\n",
       "    }\n",
       "</style>\n",
       "<table border=\"1\" class=\"dataframe\">\n",
       "  <thead>\n",
       "    <tr style=\"text-align: right;\">\n",
       "      <th></th>\n",
       "      <th>имя</th>\n",
       "      <th>возраст</th>\n",
       "      <th>доход</th>\n",
       "      <th>надежность клиента (0..1)</th>\n",
       "      <th>пол</th>\n",
       "      <th>важность клиента</th>\n",
       "      <th>возможная долгосрочность клиента</th>\n",
       "    </tr>\n",
       "  </thead>\n",
       "  <tbody>\n",
       "    <tr>\n",
       "      <th>0</th>\n",
       "      <td>Петя</td>\n",
       "      <td>45</td>\n",
       "      <td>100000</td>\n",
       "      <td>0.65</td>\n",
       "      <td>муж</td>\n",
       "      <td>65000.0</td>\n",
       "      <td>-763750.0</td>\n",
       "    </tr>\n",
       "  </tbody>\n",
       "</table>\n",
       "</div>"
      ],
      "text/plain": [
       "    имя  возраст   доход  надежность клиента (0..1)  пол  важность клиента  \\\n",
       "0  Петя       45  100000                       0.65  муж           65000.0   \n",
       "\n",
       "   возможная долгосрочность клиента  \n",
       "0                         -763750.0  "
      ]
     },
     "execution_count": 116,
     "metadata": {},
     "output_type": "execute_result"
    }
   ],
   "source": [
    "# создадим тестовый датасет\n",
    "df = pd.DataFrame({\n",
    "    'имя': ['Петя', 'Вася', 'Аня', 'Света'],\n",
    "    'возраст': [45, 26, 41 , 21],\n",
    "    'доход': [100000, 80000, 150000, 60000],\n",
    "    'надежность клиента (0..1)': [0.65, 0.74, 0.87, 0.68],\n",
    "    'пол': ['муж', 'муж', 'жен', 'жен']},\n",
    "    index=[0, 1, 2, 3])\n",
    "\n",
    "# ваш код тут\n",
    "df['важность клиента'] = df['доход'] * df['надежность клиента (0..1)']\n",
    "df['возможная долгосрочность клиента'] = df['важность клиента'] * (df['возраст'].mean() - df['возраст'])\n",
    "df[(df.возраст > 40) & (df.доход > df['доход'].mean()) & (df.iloc[:, 3] < df.iloc[:, 3].mean())]"
   ]
  },
  {
   "cell_type": "markdown",
   "metadata": {
    "colab_type": "text",
    "id": "MxFoJ2LubuYU"
   },
   "source": [
    "### Задание 6\n",
    "\n",
    "Посмотрите на блок Exploratory data analysis, используйте данные, кототрые вы загрузили в ходе его освоения. Ваша задача - вывести имена всех выживших детей и их количество"
   ]
  },
  {
   "cell_type": "code",
   "execution_count": 118,
   "metadata": {
    "colab": {},
    "colab_type": "code",
    "id": "i1IrZOJ1uQVw"
   },
   "outputs": [],
   "source": [
    "data = pd.read_csv('https://web.stanford.edu/class/archive/cs/cs109/cs109.1166/stuff/titanic.csv')"
   ]
  },
  {
   "cell_type": "code",
   "execution_count": 135,
   "metadata": {},
   "outputs": [
    {
     "data": {
      "text/plain": [
       "9           Mrs. Nicholas (Adele Achem) Nasser\n",
       "10              Miss. Marguerite Rut Sandstrom\n",
       "22                          Miss. Anna McGowan\n",
       "39                  Miss. Jamila Nicola-Yarred\n",
       "42     Miss. Simonne Marie Anne Andree Laroche\n",
       "                        ...                   \n",
       "826     Mrs. Antoni (Selini Alexander) Yasbeck\n",
       "827             Master. George Sibley Richards\n",
       "849                   Miss. Mary Conover Lines\n",
       "865             Master. Harold Theodor Johnson\n",
       "871                   Miss. Adele Kiamie Najib\n",
       "Name: Name, Length: 65, dtype: object"
      ]
     },
     "execution_count": 135,
     "metadata": {},
     "output_type": "execute_result"
    }
   ],
   "source": [
    "data[(data.Survived == 1) & (data.Age < 18)].Name"
   ]
  },
  {
   "cell_type": "code",
   "execution_count": 145,
   "metadata": {
    "colab": {},
    "colab_type": "code",
    "id": "yCXtLEbCuTvU",
    "scrolled": true
   },
   "outputs": [
    {
     "data": {
      "text/plain": [
       "65"
      ]
     },
     "execution_count": 145,
     "metadata": {},
     "output_type": "execute_result"
    }
   ],
   "source": [
    "len(data[(data.Survived == 1) & (data.Age < 18)])"
   ]
  },
  {
   "cell_type": "code",
   "execution_count": null,
   "metadata": {},
   "outputs": [],
   "source": []
  }
 ],
 "metadata": {
  "colab": {
   "collapsed_sections": [],
   "name": "Повторение python.ipynb",
   "provenance": [],
   "toc_visible": true
  },
  "kernelspec": {
   "display_name": "Python 3",
   "language": "python",
   "name": "python3"
  },
  "language_info": {
   "codemirror_mode": {
    "name": "ipython",
    "version": 3
   },
   "file_extension": ".py",
   "mimetype": "text/x-python",
   "name": "python",
   "nbconvert_exporter": "python",
   "pygments_lexer": "ipython3",
   "version": "3.8.5"
  }
 },
 "nbformat": 4,
 "nbformat_minor": 4
}
